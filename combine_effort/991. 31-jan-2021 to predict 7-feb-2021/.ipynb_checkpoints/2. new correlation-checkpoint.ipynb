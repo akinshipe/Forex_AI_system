{
 "cells": [
  {
   "cell_type": "code",
   "execution_count": null,
   "id": "e7b6a24f",
   "metadata": {},
   "outputs": [],
   "source": [
    "import pandas as pd\n",
    "from sklearn.model_selection import train_test_split\n",
    "from sklearn.linear_model import LinearRegression\n",
    "from sklearn.ensemble import RandomForestClassifier\n",
    "from sklearn.ensemble import RandomForestRegressor\n",
    "from sklearn.neighbors import KNeighborsClassifier\n",
    "from sklearn.neural_network import MLPClassifier\n",
    "#import matplotlib.pyplot as plt\n",
    "from sklearn import metrics\n",
    "import numpy as np\n",
    "import time\n",
    "from datetime import datetime"
   ]
  },
  {
   "cell_type": "code",
   "execution_count": null,
   "id": "56069149",
   "metadata": {},
   "outputs": [],
   "source": [
    "q = 0\n",
    "last_trial_time = datetime.now()\n",
    "while q < 1:\n",
    "    \n",
    "    print(last_trial_time)\n",
    "    control_dataframe = pd.read_csv('control.csv' ) \n",
    "    \n",
    "    if control_dataframe['classify'].iloc[:1].values == 1:     \n",
    "        \n",
    "        q = q+1\n",
    "        \n",
    "        \n",
    "        \n",
    "    else:  \n",
    "        last_trial_time = datetime.now()\n",
    "        time.sleep(60)\n",
    "        \n",
    "    \n",
    "    \n"
   ]
  },
  {
   "cell_type": "code",
   "execution_count": null,
   "id": "bb4baae2",
   "metadata": {},
   "outputs": [],
   "source": [
    "currency_pairs = ['USDCHF10080',\n",
    "                 'GBPUSD10080', 'EURUSD10080', 'USDJPY10080', 'USDCAD10080', 'AUDUSD10080', 'NZDUSD10080',\n",
    "                 'GBPCHF10080', 'EURCHF10080', 'CHFJPY10080', 'CADCHF10080', 'AUDCHF10080', 'NZDCHF10080', 'EURGBP10080',\n",
    "                 'GBPJPY10080', 'GBPCAD10080', 'GBPAUD10080', 'EURJPY10080', 'EURCAD10080', 'EURAUD10080', 'EURNZD10080',\n",
    "                'CADJPY10080', 'AUDJPY10080', 'NZDJPY10080', 'AUDCAD10080', 'NZDCAD10080', 'AUDNZD10080'\n",
    "                ]\n",
    "\n",
    "headers = ['date', 'ignore', 'open', 'high', 'low', 'close', 'volume'  ]\n",
    "print('---------------- Script Has Started Execution-----------------------')"
   ]
  },
  {
   "cell_type": "code",
   "execution_count": null,
   "id": "5733bbb3",
   "metadata": {},
   "outputs": [],
   "source": [
    "# declare the variable to hold all corelation data\n",
    "combine_correlation_data = pd.DataFrame()\n",
    "\n",
    "#loop through all currency\n",
    "for z in currency_pairs:\n",
    "    \n",
    "    current_currency = z.replace('10080','')\n",
    "    raw_data = pd.read_csv('files/' + current_currency + '.csv'  ) \n",
    "    \n",
    "    \n",
    "    weeks = [50, 30, 20, 15, 10]\n",
    "    \n",
    "    #loop through all availale weeks\n",
    "    for y in weeks:\n",
    "        \n",
    "        currency_list = []\n",
    "        correlation_score = []\n",
    "        \n",
    "        #loops through all currency pairs again to calculate the corelation of each currency pair with the current iteration of z\n",
    "        for x in currency_pairs:          \n",
    "\n",
    "            #duplicates the raw data to work with\n",
    "            current_data = raw_data.copy()\n",
    "            \n",
    "            #returns on the the amount of rows of weeks needed to perform correlation on\n",
    "            current_data = current_data.head(y)\n",
    "            \n",
    "            #returns the two columns that correlation is being calculated for\n",
    "            new_df = current_data[['nextweek_'+ current_currency, x.replace('10080','')]]\n",
    "\n",
    "            correlation = new_df.corr()\n",
    "            correlation = correlation[x.replace('10080','')][0:1].values[0]\n",
    "            \n",
    "            #gets the absolute value of the correlation to 5 digit number\n",
    "            correlation = abs(round(correlation, 5))\n",
    "            \n",
    "            #apppends the current currency and the corelation values to their respective lists\n",
    "            currency_list.append(x.replace('10080',''))\n",
    "            correlation_score.append(correlation)\n",
    "            \n",
    "            #creates a mini data frame with the information\n",
    "            current_correlation_dataframe = pd.DataFrame()  \n",
    "            current_correlation_dataframe [current_currency + '__' + str(y) ] = currency_list\n",
    "            current_correlation_dataframe [current_currency + '_' + str(y) ] = correlation_score\n",
    "            \n",
    "            # sort the dataframe with corelation value from large to small\n",
    "            current_correlation_dataframe.sort_values(by=[current_currency + '_' + str(y)], ascending=False, inplace=True, ignore_index= True)\n",
    "        \n",
    "            #fill the NaN values with zero\n",
    "            current_correlation_dataframe.fillna(0, inplace=True)\n",
    "            \n",
    "        # add the current_currency dataframe to the global dataframe\n",
    "        combine_correlation_data = pd.concat((combine_correlation_data, current_correlation_dataframe),axis=1)\n",
    "        #print(len(correlation_score))\n",
    "    \n",
    "print(combine_correlation_data)\n",
    "\n",
    "\n",
    "# save global dataframe to csv\n",
    "combine_correlation_data.to_csv('files/auto-correlation2.csv', index=False)\n"
   ]
  },
  {
   "cell_type": "code",
   "execution_count": null,
   "id": "4dcf4282",
   "metadata": {},
   "outputs": [],
   "source": [
    "control_dataframe = pd.read_csv('control.csv' ) \n",
    "control_dataframe['corelation'].iloc[:1] = 1\n",
    "\n",
    "\n",
    "print(control_dataframe)\n",
    "control_dataframe.to_csv('control.csv', index=False)\n"
   ]
  },
  {
   "cell_type": "code",
   "execution_count": null,
   "id": "4909201c",
   "metadata": {},
   "outputs": [],
   "source": []
  },
  {
   "cell_type": "code",
   "execution_count": null,
   "id": "b9f2428f",
   "metadata": {},
   "outputs": [],
   "source": [
    "\n"
   ]
  },
  {
   "cell_type": "code",
   "execution_count": null,
   "id": "0770928a",
   "metadata": {},
   "outputs": [],
   "source": []
  }
 ],
 "metadata": {
  "kernelspec": {
   "display_name": "Python 3 (ipykernel)",
   "language": "python",
   "name": "python3"
  },
  "language_info": {
   "codemirror_mode": {
    "name": "ipython",
    "version": 3
   },
   "file_extension": ".py",
   "mimetype": "text/x-python",
   "name": "python",
   "nbconvert_exporter": "python",
   "pygments_lexer": "ipython3",
   "version": "3.8.7"
  }
 },
 "nbformat": 4,
 "nbformat_minor": 5
}
