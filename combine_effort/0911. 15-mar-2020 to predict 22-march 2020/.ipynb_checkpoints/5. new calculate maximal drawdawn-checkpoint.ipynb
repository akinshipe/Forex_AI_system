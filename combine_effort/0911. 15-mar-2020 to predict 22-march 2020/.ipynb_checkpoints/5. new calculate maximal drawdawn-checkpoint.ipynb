{
 "cells": [
  {
   "cell_type": "code",
   "execution_count": 6,
   "id": "ea3c7df7",
   "metadata": {},
   "outputs": [],
   "source": [
    "import pandas as pd\n",
    "from sklearn.model_selection import train_test_split\n",
    "from sklearn.linear_model import LinearRegression\n",
    "from sklearn.preprocessing import OneHotEncoder, OrdinalEncoder\n",
    "#import matplotlib.pyplot as plt\n",
    "from sklearn import metrics\n",
    "import numpy as np\n",
    "from sklearn.compose import make_column_transformer\n",
    "import time\n",
    "from datetime import datetime, timedelta\n",
    "\n",
    "\n"
   ]
  },
  {
   "cell_type": "code",
   "execution_count": 7,
   "id": "17bb914a",
   "metadata": {},
   "outputs": [
    {
     "name": "stdout",
     "output_type": "stream",
     "text": [
      "2021-12-11 16:46:44.102633\n"
     ]
    }
   ],
   "source": [
    "q = 0\n",
    "last_trial_time = datetime.now()\n",
    "while q < 1:\n",
    "    \n",
    "    print(last_trial_time)\n",
    "    control_dataframe = pd.read_csv('control.csv' ) \n",
    "    \n",
    "    if control_dataframe['predict'].iloc[:1].values == 1:     \n",
    "        \n",
    "        q = q+1\n",
    "        \n",
    "        \n",
    "        \n",
    "    else:  \n",
    "        last_trial_time = datetime.now()\n",
    "        time.sleep(60)\n",
    "\n"
   ]
  },
  {
   "cell_type": "code",
   "execution_count": 8,
   "id": "f15cbae7",
   "metadata": {},
   "outputs": [
    {
     "name": "stdout",
     "output_type": "stream",
     "text": [
      "---------------- Script Has Started Execution-----------------------\n"
     ]
    }
   ],
   "source": [
    "print('---------------- Script Has Started Execution-----------------------')\n",
    "\n",
    "headers = ['date', 'ignore', 'open', 'high', 'low', 'close', 'volume'  ]\n",
    "\n",
    "current_week_dataframe = pd.read_csv('current_week_values/current_week_values.csv' ) \n",
    "\n",
    "current_week_date = current_week_dataframe['date'].iloc[:1].values[0]\n",
    "\n",
    "current_week_date = datetime.strptime(current_week_date, '%Y.%m.%d')\n",
    "\n",
    "week_start_date  = current_week_date + timedelta(days=7)\n",
    "week_end_date = current_week_date + timedelta(days=12)\n",
    "week_start_date = week_start_date.strftime(\"%Y.%m.%d\")\n",
    "week_end_date = week_end_date.strftime(\"%Y.%m.%d\")      \n",
    "                                           \n",
    "                                           \n"
   ]
  },
  {
   "cell_type": "code",
   "execution_count": 9,
   "id": "bf9bd74b",
   "metadata": {},
   "outputs": [
    {
     "name": "stdout",
     "output_type": "stream",
     "text": [
      "[{'name': 'USDCHF', 'direction': 'S', 'dataframe': None}, {'name': 'EURUSD', 'direction': 'B', 'dataframe': None}, {'name': 'USDJPY', 'direction': 'S', 'dataframe': None}, {'name': 'USDCAD', 'direction': 'B', 'dataframe': None}, {'name': 'AUDUSD', 'direction': 'S', 'dataframe': None}, {'name': 'NZDUSD', 'direction': 'S', 'dataframe': None}, {'name': 'EURCHF', 'direction': 'S', 'dataframe': None}, {'name': 'CHFJPY', 'direction': 'S', 'dataframe': None}, {'name': 'CADCHF', 'direction': 'S', 'dataframe': None}, {'name': 'AUDCHF', 'direction': 'S', 'dataframe': None}, {'name': 'EURGBP', 'direction': 'B', 'dataframe': None}, {'name': 'GBPJPY', 'direction': 'S', 'dataframe': None}, {'name': 'GBPAUD', 'direction': 'B', 'dataframe': None}, {'name': 'EURJPY', 'direction': 'S', 'dataframe': None}, {'name': 'EURCAD', 'direction': 'B', 'dataframe': None}, {'name': 'EURAUD', 'direction': 'B', 'dataframe': None}, {'name': 'CADJPY', 'direction': 'S', 'dataframe': None}, {'name': 'AUDCAD', 'direction': 'S', 'dataframe': None}, {'name': 'NZDCAD', 'direction': 'S', 'dataframe': None}, {'name': 'AUDNZD', 'direction': 'S', 'dataframe': None}]\n"
     ]
    }
   ],
   "source": [
    "trade_info = pd.read_csv('files/next_week_trades.csv' ) \n",
    "    \n",
    "\n",
    "\n",
    "currency_pairs = []\n",
    "\n",
    "for index, row in trade_info.iterrows():\n",
    "    \n",
    "    current_trade_info = {'name' : row.names, 'direction': row.next_week_prediction, 'dataframe': None }\n",
    "    \n",
    "    currency_pairs.append(current_trade_info)\n",
    "\n",
    "print(currency_pairs)\n"
   ]
  },
  {
   "cell_type": "code",
   "execution_count": 10,
   "id": "57c6adcb",
   "metadata": {},
   "outputs": [
    {
     "name": "stdout",
     "output_type": "stream",
     "text": [
      "---------------------------- USDCHF\n",
      "---------------------------- EURUSD\n",
      "---------------------------- USDJPY\n",
      "---------------------------- USDCAD\n",
      "---------------------------- AUDUSD\n",
      "---------------------------- NZDUSD\n",
      "---------------------------- EURCHF\n",
      "---------------------------- CHFJPY\n",
      "---------------------------- CADCHF\n",
      "---------------------------- AUDCHF\n",
      "---------------------------- EURGBP\n",
      "---------------------------- GBPJPY\n",
      "GBPAUD               date ignore     open     high      low    close  volume\n",
      "154787  2020.03.23  00:00  2.00936  2.02464  2.00842  2.01225    1165\n",
      "154788  2020.03.23  00:30  2.01216  2.02856  2.00756  2.01798    3710\n",
      "154789  2020.03.23  01:00  2.01785  2.02244  2.00816  2.01476    4387\n",
      "154790  2020.03.23  01:30  2.01476  2.02137  2.01002  2.01914    4063\n",
      "154791  2020.03.23  02:00  2.01914  2.02514  2.00874  2.02065    3653\n",
      "...            ...    ...      ...      ...      ...      ...     ...\n",
      "155019  2020.03.27  20:30  2.01354  2.01645  2.01139  2.01519    3256\n",
      "155020  2020.03.27  21:00  2.01515  2.01619  2.01063  2.01228    4404\n",
      "155021  2020.03.27  21:30  2.01230  2.02175  2.01204  2.01922    5566\n",
      "155022  2020.03.27  22:00  2.01928  2.02109  2.01528  2.02076    1560\n",
      "155023  2020.03.27  22:30  2.02059  2.02225  2.01775  2.02203     972\n",
      "\n",
      "[237 rows x 7 columns]\n"
     ]
    },
    {
     "ename": "Exception",
     "evalue": "number of rows is wrong",
     "output_type": "error",
     "traceback": [
      "\u001b[1;31m---------------------------------------------------------------------------\u001b[0m",
      "\u001b[1;31mException\u001b[0m                                 Traceback (most recent call last)",
      "\u001b[1;32mC:\\Users\\AKINSH~1\\AppData\\Local\\Temp/ipykernel_20772/970590936.py\u001b[0m in \u001b[0;36m<module>\u001b[1;34m\u001b[0m\n\u001b[0;32m     21\u001b[0m \u001b[1;33m\u001b[0m\u001b[0m\n\u001b[0;32m     22\u001b[0m         \u001b[0mprint\u001b[0m\u001b[1;33m(\u001b[0m\u001b[0ma\u001b[0m\u001b[1;33m[\u001b[0m\u001b[1;34m'name'\u001b[0m\u001b[1;33m]\u001b[0m\u001b[1;33m,\u001b[0m \u001b[0ma\u001b[0m\u001b[1;33m[\u001b[0m\u001b[1;34m'dataframe'\u001b[0m\u001b[1;33m]\u001b[0m\u001b[1;33m)\u001b[0m\u001b[1;33m\u001b[0m\u001b[1;33m\u001b[0m\u001b[0m\n\u001b[1;32m---> 23\u001b[1;33m         \u001b[1;32mraise\u001b[0m \u001b[0mException\u001b[0m\u001b[1;33m(\u001b[0m\u001b[1;34m\"number of rows is wrong\"\u001b[0m\u001b[1;33m)\u001b[0m\u001b[1;33m\u001b[0m\u001b[1;33m\u001b[0m\u001b[0m\n\u001b[0m\u001b[0;32m     24\u001b[0m \u001b[1;33m\u001b[0m\u001b[0m\n\u001b[0;32m     25\u001b[0m     \u001b[1;32melse\u001b[0m\u001b[1;33m:\u001b[0m\u001b[1;33m\u001b[0m\u001b[1;33m\u001b[0m\u001b[0m\n",
      "\u001b[1;31mException\u001b[0m: number of rows is wrong"
     ]
    }
   ],
   "source": [
    "# this cell checks if all the currency pairs have the same number of rows\n",
    "\n",
    "total_rows = 0\n",
    "\n",
    "for a in currency_pairs:\n",
    "    current_currency_dataframe = pd.read_csv('../../raw_30_minutes_data/' + a['name']+ str(30) + '.csv', names=headers  ) \n",
    "    \n",
    "    # save current currency dataframe to memory to speedup the consecutive calls to the dataframe by saving to a variable\n",
    "    #filter dataframe to only return needed rows for the week\n",
    "    \n",
    "    a['dataframe']= current_currency_dataframe.loc[  (current_currency_dataframe['date'] >= week_start_date)\n",
    "                                                   \n",
    "                                                     & \n",
    "                                                      (current_currency_dataframe['date'] <= week_end_date)\n",
    "                                                                                                      ]  \n",
    "    \n",
    "    \n",
    "    current_currency_dataframe_row_ammount = len(a['dataframe'].index)\n",
    "    \n",
    "    if  current_currency_dataframe_row_ammount != 240:\n",
    "        \n",
    "        print(a['name'], a['dataframe'])\n",
    "        raise Exception(\"number of rows is wrong\")\n",
    "        \n",
    "    else:\n",
    "        total_rows = current_currency_dataframe_row_ammount\n",
    "        \n",
    "    \n",
    "    if  a['dataframe']['ignore'].iloc[-1] != '23:30':\n",
    "        \n",
    "        print(a['name'], a['dataframe'])\n",
    "        raise Exception(\"last row timeframe is wrong\")\n",
    "        \n",
    "            \n",
    "    if a['dataframe']['date'].iloc[-1] != week_end_date :\n",
    "        \n",
    "        print(a['name'], a['dataframe'])\n",
    "        raise Exception(\"last day date is wrong\")\n",
    "       \n",
    "    \n",
    "    \n",
    "   \n",
    "    \n",
    "    #drops the first 24 columns so as to start analysis by 2am and not 12am\n",
    "    #a['dataframe'] = a['dataframe'].iloc[24: , :]\n",
    "    \n",
    "    #reset the index of the dataframe to refresh it\n",
    "    a['dataframe'] = a['dataframe'].reset_index(drop=True, )\n",
    "    \n",
    "    print('----------------------------',a['name'])\n",
    "    \n",
    "   \n",
    "   \n",
    "    \n",
    "    \n",
    "   \n",
    "print(total_rows)"
   ]
  },
  {
   "cell_type": "code",
   "execution_count": null,
   "id": "92db5ac2",
   "metadata": {},
   "outputs": [],
   "source": [
    "timeframe = []\n",
    "trade_values = []\n",
    "\n",
    "for b in range(total_rows):\n",
    "    \n",
    "   \n",
    "    # save current timefreame to timeframe list\n",
    "    timeframe.append(currency_pairs[0]['dataframe'].loc[b]['date'] + ' '+ currency_pairs[0]['dataframe'].loc[b]['ignore']  )\n",
    "    \n",
    "    sum_of_all_open_trades = 0\n",
    "    \n",
    "    for c in currency_pairs:\n",
    "        \n",
    "        \n",
    "        if c['direction'] == 'B':\n",
    "            \n",
    "            current_trade_value =  c['dataframe'].loc[b]['close'] - c['dataframe'].loc[0]['open']\n",
    "            \n",
    "        if c['direction'] == 'S':\n",
    "            \n",
    "            current_trade_value =  c['dataframe'].loc[0]['open'] -  c['dataframe'].loc[b]['close']\n",
    "            \n",
    "        \n",
    "        pips_corrector = 100000\n",
    "\n",
    "        if c['name'].endswith('JPY'):   # use this to correct multiplier of jpy pairs\n",
    "            pips_corrector = 1000\n",
    "        \n",
    "        current_trade_value = current_trade_value * pips_corrector\n",
    "        \n",
    "        #print(c['name'], '---', current_trade_value )\n",
    "        \n",
    "        \n",
    "        \n",
    "        sum_of_all_open_trades = sum_of_all_open_trades + current_trade_value\n",
    "        \n",
    "       \n",
    "        \n",
    "    \n",
    "    trade_values.append(sum_of_all_open_trades)\n",
    "  \n",
    "    \n",
    "\n",
    "\n",
    "trade_values_dataframe = pd.DataFrame()\n",
    "trade_values_dataframe['timeframe'] = timeframe\n",
    "\n",
    "\n",
    "\n",
    "\n",
    "trade_values_dataframe['profit'] = trade_values\n",
    "\n",
    "print (trade_values_dataframe)\n",
    "\n",
    "trade_values_dataframe = trade_values_dataframe.sort_values(by=['timeframe'], ascending=False,  ignore_index= True)\n",
    "\n",
    "\n",
    "\n",
    "maximal_drawup_dataframe = pd.DataFrame()\n",
    "maximal_drawup_dataframe[0] = ['' for r in trade_values]\n",
    "maximal_drawup_dataframe['timeframe1'] = timeframe\n",
    "maximal_drawup_dataframe['drawup'] = trade_values\n",
    "maximal_drawup_dataframe.sort_values(by=['drawup'], ascending=False, inplace=True, ignore_index= True)\n",
    "\n",
    "maximal_drawdown_dataframe = pd.DataFrame()\n",
    "maximal_drawdown_dataframe[1] = ['' for r in trade_values]\n",
    "maximal_drawdown_dataframe['timeframe2'] = timeframe\n",
    "maximal_drawdown_dataframe['drawdown'] = trade_values\n",
    "maximal_drawdown_dataframe.sort_values(by=['drawdown'], ascending=True, inplace=True, ignore_index= True)\n",
    "\n",
    "\n",
    "\n",
    "main_dataframe = pd.concat([trade_values_dataframe, maximal_drawup_dataframe, maximal_drawdown_dataframe ], axis = 1)\n",
    "\n",
    "\n",
    "\n",
    "main_dataframe\n",
    "\n",
    "\n"
   ]
  },
  {
   "cell_type": "code",
   "execution_count": null,
   "id": "c6470e57",
   "metadata": {},
   "outputs": [],
   "source": [
    "main_dataframe.to_csv('files/' + 'maximaldraw_down_and_up' + '.csv', index=False)\n"
   ]
  },
  {
   "cell_type": "code",
   "execution_count": null,
   "id": "f0658d11",
   "metadata": {},
   "outputs": [],
   "source": [
    "control_dataframe = pd.read_csv('control.csv' ) \n",
    "control_dataframe['drawdownup'].iloc[:1] = 1\n",
    "\n",
    "\n",
    "print(control_dataframe)\n",
    "control_dataframe.to_csv('control.csv', index=False)\n"
   ]
  },
  {
   "cell_type": "code",
   "execution_count": null,
   "id": "7d957152",
   "metadata": {},
   "outputs": [],
   "source": []
  }
 ],
 "metadata": {
  "kernelspec": {
   "display_name": "Python 3 (ipykernel)",
   "language": "python",
   "name": "python3"
  },
  "language_info": {
   "codemirror_mode": {
    "name": "ipython",
    "version": 3
   },
   "file_extension": ".py",
   "mimetype": "text/x-python",
   "name": "python",
   "nbconvert_exporter": "python",
   "pygments_lexer": "ipython3",
   "version": "3.8.7"
  }
 },
 "nbformat": 4,
 "nbformat_minor": 5
}
