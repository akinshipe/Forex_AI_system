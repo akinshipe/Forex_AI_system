{
 "cells": [
  {
   "cell_type": "code",
   "execution_count": 122,
   "id": "ce7576e9",
   "metadata": {},
   "outputs": [],
   "source": [
    "import os\n",
    "import pandas as pd\n",
    "from sklearn.model_selection import train_test_split\n",
    "from sklearn.linear_model import LinearRegression\n",
    "from sklearn.ensemble import RandomForestClassifier\n",
    "from sklearn.ensemble import RandomForestRegressor\n",
    "from sklearn.neighbors import KNeighborsClassifier\n",
    "from sklearn.neural_network import MLPClassifier\n",
    "#import matplotlib.pyplot as plt\n",
    "from sklearn import metrics\n",
    "import numpy as np\n",
    "import time\n",
    "from datetime import datetime"
   ]
  },
  {
   "cell_type": "code",
   "execution_count": 123,
   "id": "2b9caf27",
   "metadata": {},
   "outputs": [
    {
     "name": "stdout",
     "output_type": "stream",
     "text": [
      "64\n"
     ]
    }
   ],
   "source": [
    "for root, dirs, files in os.walk(\"../\", topdown=False):\n",
    "    pass\n",
    "\n",
    "print(len(dirs))"
   ]
  },
  {
   "cell_type": "code",
   "execution_count": 124,
   "id": "278419d0",
   "metadata": {},
   "outputs": [
    {
     "name": "stdout",
     "output_type": "stream",
     "text": [
      "240 240\n"
     ]
    }
   ],
   "source": [
    "all_week_dataframes = []\n",
    "max_rows = 0\n",
    "max_timeframe_rows = None\n",
    "\n",
    "for a in dirs:\n",
    "    \n",
    "    path = '../'+ a + '/files/maximaldraw_down_and_up.csv'\n",
    "    \n",
    "    if os.path.exists(path) == False:\n",
    "    \n",
    "        continue\n",
    "    \n",
    "    \n",
    "    current_week_dataframe = pd.read_csv(path )\n",
    "    \n",
    "    current_dt_lenght = len(current_week_dataframe.index)\n",
    "    \n",
    "    if current_dt_lenght > 240:\n",
    "        print(path)\n",
    "        raise Exception('Rows are not supposed to me more than 240')\n",
    "    \n",
    "    if current_dt_lenght > max_rows :\n",
    "        \n",
    "        max_rows = current_dt_lenght\n",
    "        max_timeframe_rows = current_week_dataframe['timeframe']\n",
    "        \n",
    "        \n",
    "    \n",
    "    current_week_data = {'week_path' : path, 'dataframe' : current_week_dataframe,  }\n",
    "     \n",
    "    all_week_dataframes.append(current_week_data)\n",
    "    \n",
    "    \n",
    "\n",
    "    \n",
    "        \n",
    "print(max_rows, len(max_timeframe_rows))\n",
    "        \n",
    "        "
   ]
  },
  {
   "cell_type": "code",
   "execution_count": 125,
   "id": "8e51aa8b",
   "metadata": {},
   "outputs": [],
   "source": [
    "combine_weeks_df = pd.DataFrame()\n",
    "combine_weeks_df['timeframe'] = max_timeframe_rows\n"
   ]
  },
  {
   "cell_type": "code",
   "execution_count": 126,
   "id": "41aec281",
   "metadata": {},
   "outputs": [
    {
     "name": "stdout",
     "output_type": "stream",
     "text": [
      "            timeframe  week_0901  week_0902  week_0903  week_0904  week_1002  \\\n",
      "0    2020.01.17 23:30    -3232.0    -1826.0    -3054.0     7779.0    -3054.0   \n",
      "1    2020.01.17 23:00    -3242.0    -1998.0    -2775.0     7534.0    -2775.0   \n",
      "2    2020.01.17 22:30    -3138.0    -2052.0    -2545.0     7530.0    -2545.0   \n",
      "3    2020.01.17 22:00    -3146.0    -2027.0    -2906.0     7591.0    -2906.0   \n",
      "4    2020.01.17 21:30    -3212.0    -2016.0    -2619.0     7636.0    -2619.0   \n",
      "..                ...        ...        ...        ...        ...        ...   \n",
      "235  2020.01.13 02:00     -429.0      347.0     1685.0     -564.0     1685.0   \n",
      "236  2020.01.13 01:30       13.0      177.0     1866.0     -350.0     1866.0   \n",
      "237  2020.01.13 01:00     -160.0      167.0     1391.0     -627.0     1391.0   \n",
      "238  2020.01.13 00:30     -431.0       34.0     1046.0      151.0     1046.0   \n",
      "239  2020.01.13 00:00     -187.0      -38.0     1260.0      -86.0     1260.0   \n",
      "\n",
      "     week_1003  week_1004  week_1005  week_1006  ...  week_1045  week_1046  \\\n",
      "0      -1846.0    -1698.0     5309.0    13629.0  ...    11154.0     3726.0   \n",
      "1      -1804.0    -1951.0     5418.0    13755.0  ...    10849.0     3831.0   \n",
      "2      -1736.0    -1637.0     5486.0    13969.0  ...    10468.0     4200.0   \n",
      "3      -1772.0    -1769.0     6095.0    13868.0  ...    10413.0     4011.0   \n",
      "4      -1764.0    -1287.0     5615.0    13570.0  ...    10190.0     3688.0   \n",
      "..         ...        ...        ...        ...  ...        ...        ...   \n",
      "235     1120.0     -832.0     2131.0     1774.0  ...     -878.0     1527.0   \n",
      "236     1293.0    -1570.0     1480.0      553.0  ...     -608.0     1053.0   \n",
      "237     1332.0      223.0     1691.0     -495.0  ...      -63.0     1652.0   \n",
      "238     1845.0      178.0      435.0      747.0  ...     -452.0     1015.0   \n",
      "239     2418.0      201.0      513.0      575.0  ...     -222.0      324.0   \n",
      "\n",
      "     week_1047  week_1048  week_1049  week_1050  week_1051  week_1052  empty1  \\\n",
      "0       1841.0    -8730.0     5094.0    -3826.0    14511.0   -15772.0           \n",
      "1       1835.0    -9121.0     5090.0    -3851.0    14472.0   -15579.0           \n",
      "2       1465.0    -9141.0     4772.0    -3940.0    14090.0   -15094.0           \n",
      "3       1586.0    -9255.0     4970.0    -4041.0    14333.0   -15126.0           \n",
      "4       1563.0    -9237.0     4814.0    -4587.0    14151.0   -16042.0           \n",
      "..         ...        ...        ...        ...        ...        ...     ...   \n",
      "235      378.0    -1101.0     -210.0     -241.0      668.0     1712.0           \n",
      "236      558.0      -82.0     -217.0     -279.0      560.0     2454.0           \n",
      "237      548.0      242.0     -198.0     -354.0      340.0     1890.0           \n",
      "238      371.0      242.0     -234.0     -347.0      479.0    -1739.0           \n",
      "239      252.0      242.0     -186.0     -333.0      358.0    -2188.0           \n",
      "\n",
      "         sum  \n",
      "0     5785.0  \n",
      "1     7271.0  \n",
      "2     7114.0  \n",
      "3     7314.0  \n",
      "4     4482.0  \n",
      "..       ...  \n",
      "235  24248.0  \n",
      "236  22308.0  \n",
      "237  20759.0  \n",
      "238  13956.0  \n",
      "239  13696.0  \n",
      "\n",
      "[240 rows x 55 columns]\n"
     ]
    }
   ],
   "source": [
    "\n",
    "\n",
    "for b in all_week_dataframes:\n",
    "    \n",
    "    current_week_dataframe = b['dataframe'].iloc[: , :2]\n",
    "    week_name = 'week_' + b['week_path'][3:7]\n",
    "    \n",
    "    #print(current_week_dataframe)\n",
    "    # this is to removes weeks that have holiday or missing data in them\n",
    "    if len(current_week_dataframe.index) <230:\n",
    "        \n",
    "        continue\n",
    "    \n",
    "    while len(current_week_dataframe.index) < max_rows:\n",
    "\n",
    "        \n",
    "        new_row = current_week_dataframe.tail(1).values[0]  \n",
    "        #print(new_row)\n",
    "       \n",
    "        current_week_dataframe.loc[len(current_week_dataframe.index)] = new_row\n",
    "       \n",
    "        \n",
    "    \n",
    "    \n",
    "    combine_weeks_df[week_name] = current_week_dataframe['profit']\n",
    "    \n",
    "\n",
    "column_list = list(combine_weeks_df)   \n",
    "column_list.remove('timeframe')\n",
    "\n",
    "combine_weeks_df[\"empty1\"] = [\"\" for x in max_timeframe_rows]\n",
    "combine_weeks_df[\"sum\"] = combine_weeks_df[column_list].sum(axis=1)\n",
    "print(combine_weeks_df)"
   ]
  },
  {
   "cell_type": "code",
   "execution_count": null,
   "id": "85fd895c",
   "metadata": {},
   "outputs": [],
   "source": []
  },
  {
   "cell_type": "code",
   "execution_count": 127,
   "id": "c44525b3",
   "metadata": {},
   "outputs": [],
   "source": [
    "combine_weeks_df.to_csv('combine_weeks_df.csv')"
   ]
  },
  {
   "cell_type": "code",
   "execution_count": null,
   "id": "64da7721",
   "metadata": {},
   "outputs": [],
   "source": []
  },
  {
   "cell_type": "code",
   "execution_count": null,
   "id": "de929a58",
   "metadata": {},
   "outputs": [],
   "source": []
  }
 ],
 "metadata": {
  "kernelspec": {
   "display_name": "Python 3 (ipykernel)",
   "language": "python",
   "name": "python3"
  },
  "language_info": {
   "codemirror_mode": {
    "name": "ipython",
    "version": 3
   },
   "file_extension": ".py",
   "mimetype": "text/x-python",
   "name": "python",
   "nbconvert_exporter": "python",
   "pygments_lexer": "ipython3",
   "version": "3.8.7"
  }
 },
 "nbformat": 4,
 "nbformat_minor": 5
}
