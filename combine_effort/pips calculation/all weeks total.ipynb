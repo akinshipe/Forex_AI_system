{
 "cells": [
  {
   "cell_type": "code",
   "execution_count": 312,
   "id": "ce7576e9",
   "metadata": {},
   "outputs": [],
   "source": [
    "import os\n",
    "import pandas as pd\n",
    "from sklearn.model_selection import train_test_split\n",
    "from sklearn.linear_model import LinearRegression\n",
    "from sklearn.ensemble import RandomForestClassifier\n",
    "from sklearn.ensemble import RandomForestRegressor\n",
    "from sklearn.neighbors import KNeighborsClassifier\n",
    "from sklearn.neural_network import MLPClassifier\n",
    "#import matplotlib.pyplot as plt\n",
    "from sklearn import metrics\n",
    "import numpy as np\n",
    "import time\n",
    "from datetime import datetime"
   ]
  },
  {
   "cell_type": "code",
   "execution_count": 313,
   "id": "2b9caf27",
   "metadata": {},
   "outputs": [
    {
     "name": "stdout",
     "output_type": "stream",
     "text": [
      "64\n"
     ]
    }
   ],
   "source": [
    "for root, dirs, files in os.walk(\"../\", topdown=False):\n",
    "    pass\n",
    "\n",
    "print(len(dirs))"
   ]
  },
  {
   "cell_type": "code",
   "execution_count": 314,
   "id": "278419d0",
   "metadata": {},
   "outputs": [
    {
     "name": "stdout",
     "output_type": "stream",
     "text": [
      "1439 1439\n"
     ]
    }
   ],
   "source": [
    "all_week_dataframes = []\n",
    "max_rows = 0\n",
    "max_timeframe_rows = None\n",
    "\n",
    "for a in dirs:\n",
    "    \n",
    "    path = '../'+ a + '/files/maximaldraw_down_and_up.csv'\n",
    "    \n",
    "    if os.path.exists(path) == False:\n",
    "    \n",
    "        continue\n",
    "    \n",
    "    \n",
    "    current_week_dataframe = pd.read_csv(path )\n",
    "    \n",
    "    current_dt_lenght = len(current_week_dataframe.index)\n",
    "    \n",
    "    if current_dt_lenght > max_rows :\n",
    "        \n",
    "        max_rows = current_dt_lenght\n",
    "        max_timeframe_rows = current_week_dataframe['timeframe']\n",
    "        \n",
    "        \n",
    "    \n",
    "    current_week_data = {'week_path' : path, 'dataframe' : current_week_dataframe,  }\n",
    "     \n",
    "    all_week_dataframes.append(current_week_data)\n",
    "    \n",
    "    \n",
    "\n",
    "    \n",
    "        \n",
    "print(max_rows, len(max_timeframe_rows))\n",
    "        \n",
    "        "
   ]
  },
  {
   "cell_type": "code",
   "execution_count": 315,
   "id": "d5d2e510",
   "metadata": {},
   "outputs": [],
   "source": [
    "combine_weeks_df = pd.DataFrame()\n",
    "combine_weeks_df['timeframe'] = max_timeframe_rows\n"
   ]
  },
  {
   "cell_type": "code",
   "execution_count": 316,
   "id": "41aec281",
   "metadata": {},
   "outputs": [
    {
     "name": "stdout",
     "output_type": "stream",
     "text": [
      "             timeframe  week_1003  week_1004  week_1005  week_1006  week_1007  \\\n",
      "0     2021.01.22 23:50    -1846.0    -4112.0     4506.0     9572.0     6566.0   \n",
      "1     2021.01.22 23:45    -1781.0    -4440.0     4605.0     9462.0     6469.0   \n",
      "2     2021.01.22 23:40    -1841.0    -4441.0     4232.0     9491.0     6560.0   \n",
      "3     2021.01.22 23:35    -1989.0    -4345.0     4325.0     9569.0     6606.0   \n",
      "4     2021.01.22 23:30    -1897.0    -4442.0     4506.0     9531.0     6450.0   \n",
      "...                ...        ...        ...        ...        ...        ...   \n",
      "1434  2021.01.18 00:20     2075.0     -344.0      434.0       66.0      798.0   \n",
      "1435  2021.01.18 00:15     1925.0     -203.0      453.0      267.0      737.0   \n",
      "1436  2021.01.18 00:10     1772.0     -349.0      405.0       57.0      922.0   \n",
      "1437  2021.01.18 00:05      859.0     -298.0      630.0     -282.0      932.0   \n",
      "1438  2021.01.18 00:00      859.0     -288.0      925.0       56.0      295.0   \n",
      "\n",
      "      week_1022  week_1023  week_1024  week_1026  ...  week_1045  week_1046  \\\n",
      "0        4836.0    -2457.0    -3465.0    -4099.0  ...    11154.0     3727.0   \n",
      "1        4662.0    -2490.0    -3492.0    -4174.0  ...    10988.0     3768.0   \n",
      "2        4515.0    -2427.0    -3521.0    -4222.0  ...    11076.0     3712.0   \n",
      "3        4660.0    -2534.0    -3436.0    -4176.0  ...    10901.0     3692.0   \n",
      "4        4704.0    -2496.0    -3405.0    -4283.0  ...    10920.0     3634.0   \n",
      "...         ...        ...        ...        ...  ...        ...        ...   \n",
      "1434      516.0      -74.0      -43.0       27.0  ...     -206.0      279.0   \n",
      "1435      407.0      -74.0     -417.0      -25.0  ...       14.0      284.0   \n",
      "1436      543.0      -74.0      197.0     -249.0  ...      -53.0      -55.0   \n",
      "1437      507.0      -74.0      197.0      -65.0  ...      -96.0      102.0   \n",
      "1438      138.0      -74.0      197.0       13.0  ...     -145.0     -170.0   \n",
      "\n",
      "      week_1047  week_1048  week_1049  week_1050  week_1051  week_1052  \\\n",
      "0        3316.0    -9799.0     5094.0    -3814.0     8018.0    -7547.0   \n",
      "1        3344.0    -9684.0     5076.0    -3735.0     8036.0    -7839.0   \n",
      "2        3661.0    -9765.0     5024.0    -3831.0     7906.0    -7936.0   \n",
      "3        3748.0    -9813.0     5120.0    -3766.0     7496.0    -7707.0   \n",
      "4        3687.0    -9894.0     5092.0    -3817.0     7199.0    -7655.0   \n",
      "...         ...        ...        ...        ...        ...        ...   \n",
      "1434      211.0     -139.0     -320.0     -515.0      563.0    -2245.0   \n",
      "1435       84.0     -139.0      -54.0     -407.0      628.0    -1942.0   \n",
      "1436      188.0     -139.0     -170.0     -427.0      483.0    -1296.0   \n",
      "1437      211.0     -139.0       97.0     -329.0      407.0    -1042.0   \n",
      "1438      106.0     -139.0       66.0     -133.0      418.0     -635.0   \n",
      "\n",
      "      empty1     sum  \n",
      "0             8190.0  \n",
      "1             7703.0  \n",
      "2             7157.0  \n",
      "3             7563.0  \n",
      "4             7036.0  \n",
      "...      ...     ...  \n",
      "1434          4421.0  \n",
      "1435          3819.0  \n",
      "1436          3102.0  \n",
      "1437          2368.0  \n",
      "1438          1448.0  \n",
      "\n",
      "[1439 rows x 35 columns]\n"
     ]
    }
   ],
   "source": [
    "\n",
    "\n",
    "for b in all_week_dataframes:\n",
    "    \n",
    "    current_week_dataframe = b['dataframe'].iloc[: , :2]\n",
    "    week_name = 'week_' + b['week_path'][3:7]\n",
    "    \n",
    "    #print(current_week_dataframe)\n",
    "    # this is to removes weeks that have holiday or missing data in them\n",
    "    if len(current_week_dataframe.index) <1420:\n",
    "        \n",
    "        continue\n",
    "    \n",
    "    while len(current_week_dataframe.index) < max_rows:\n",
    "\n",
    "        \n",
    "        new_row = current_week_dataframe.tail(1).values[0]  \n",
    "        #print(new_row)\n",
    "       \n",
    "        current_week_dataframe.loc[len(current_week_dataframe.index)] = new_row\n",
    "       \n",
    "        \n",
    "    \n",
    "    \n",
    "    combine_weeks_df[week_name] = current_week_dataframe['profit']\n",
    "    \n",
    "\n",
    "column_list = list(combine_weeks_df)   \n",
    "column_list.remove('timeframe')\n",
    "\n",
    "combine_weeks_df[\"empty1\"] = [\"\" for x in max_timeframe_rows]\n",
    "combine_weeks_df[\"sum\"] = combine_weeks_df[column_list].sum(axis=1)\n",
    "print(combine_weeks_df)"
   ]
  },
  {
   "cell_type": "code",
   "execution_count": null,
   "id": "1aaee0a1",
   "metadata": {},
   "outputs": [],
   "source": []
  },
  {
   "cell_type": "code",
   "execution_count": 317,
   "id": "ae2af3e8",
   "metadata": {},
   "outputs": [],
   "source": [
    "combine_weeks_df.to_csv('combine_weeks_df.csv')"
   ]
  },
  {
   "cell_type": "code",
   "execution_count": null,
   "id": "298bf8e8",
   "metadata": {},
   "outputs": [],
   "source": []
  },
  {
   "cell_type": "code",
   "execution_count": null,
   "id": "48cbd6c4",
   "metadata": {},
   "outputs": [],
   "source": []
  }
 ],
 "metadata": {
  "kernelspec": {
   "display_name": "Python 3 (ipykernel)",
   "language": "python",
   "name": "python3"
  },
  "language_info": {
   "codemirror_mode": {
    "name": "ipython",
    "version": 3
   },
   "file_extension": ".py",
   "mimetype": "text/x-python",
   "name": "python",
   "nbconvert_exporter": "python",
   "pygments_lexer": "ipython3",
   "version": "3.8.7"
  }
 },
 "nbformat": 4,
 "nbformat_minor": 5
}
