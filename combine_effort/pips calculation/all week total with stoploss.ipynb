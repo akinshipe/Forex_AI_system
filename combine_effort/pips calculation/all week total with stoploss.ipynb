{
 "cells": [
  {
   "cell_type": "code",
   "execution_count": 12,
   "id": "ce7576e9",
   "metadata": {},
   "outputs": [],
   "source": [
    "import os\n",
    "import pandas as pd\n",
    "from sklearn.model_selection import train_test_split\n",
    "from sklearn.linear_model import LinearRegression\n",
    "from sklearn.ensemble import RandomForestClassifier\n",
    "from sklearn.ensemble import RandomForestRegressor\n",
    "from sklearn.neighbors import KNeighborsClassifier\n",
    "from sklearn.neural_network import MLPClassifier\n",
    "#import matplotlib.pyplot as plt\n",
    "from sklearn import metrics\n",
    "import numpy as np\n",
    "import time\n",
    "from datetime import datetime"
   ]
  },
  {
   "cell_type": "code",
   "execution_count": 13,
   "id": "2b9caf27",
   "metadata": {},
   "outputs": [
    {
     "name": "stdout",
     "output_type": "stream",
     "text": [
      "64\n"
     ]
    }
   ],
   "source": [
    "for root, dirs, files in os.walk(\"../\", topdown=False):\n",
    "    pass\n",
    "\n",
    "print(len(dirs))"
   ]
  },
  {
   "cell_type": "code",
   "execution_count": 14,
   "id": "278419d0",
   "metadata": {},
   "outputs": [
    {
     "name": "stdout",
     "output_type": "stream",
     "text": [
      "../1000. 13-dec-2020 to predict 20-dec-2020/files/maximaldraw_down_and_up.csv  row is less than 230\n",
      "../1001. 20-dec-2021 to predict 27-dec-2021/files/maximaldraw_down_and_up.csv  row is less than 230\n",
      "../pips calculation/files/maximaldraw_down_and_up.csv  not_exist\n",
      "../starterpack/files/maximaldraw_down_and_up.csv  not_exist\n",
      "60\n"
     ]
    }
   ],
   "source": [
    "all_week_dataframes = []\n",
    "\n",
    "\n",
    "\n",
    "for a in dirs:\n",
    "    \n",
    "    path = '../'+ a + '/files/maximaldraw_down_and_up.csv'\n",
    "    \n",
    "    if os.path.exists(path) == False:\n",
    "        \n",
    "        print(path, ' not_exist')\n",
    "        continue\n",
    "        \n",
    "        \n",
    "    current_week_dataframe = pd.read_csv(path )\n",
    "    \n",
    "    current_dt_lenght = len(current_week_dataframe.index)\n",
    "    \n",
    "    if current_dt_lenght > 240:\n",
    "        print(path,)\n",
    "        raise Exception('Rows are not supposed to me more than 240')\n",
    "        \n",
    "        \n",
    "     #print(current_week_dataframe)\n",
    "    # this is to removes weeks that have holiday or missing data in them\n",
    "    if current_dt_lenght <230:\n",
    "        \n",
    "        print(path, ' row is less than 230')\n",
    "        continue\n",
    "        \n",
    "    \n",
    "    current_week_data = {'week_path' : path, 'dataframe' : current_week_dataframe,  }\n",
    "     \n",
    "    all_week_dataframes.append(current_week_data)\n",
    "    \n",
    "    \n",
    "\n",
    "    \n",
    "        \n",
    "print(len(all_week_dataframes))\n",
    "        \n",
    "        "
   ]
  },
  {
   "cell_type": "code",
   "execution_count": null,
   "id": "8e51aa8b",
   "metadata": {},
   "outputs": [],
   "source": [
    "\n"
   ]
  },
  {
   "cell_type": "code",
   "execution_count": 15,
   "id": "41aec281",
   "metadata": {},
   "outputs": [
    {
     "name": "stdout",
     "output_type": "stream",
     "text": [
      "60\n",
      "[1918.999999999932, -2000, -2000, -2000, 874.0000000000216, 6264.000000000036, -2000, 10024.000000000024, -2000, -2000, -2000, 7778.999999999998, -2000, -1846.0000000000653, -2000, 5309.000000000004, 13628.999999999996, 6565.999999999965, 8072.0000000000355, -1856.9999999999295, -2000, 10553.000000000007, -2000, 1228.9999999999804, 3499.9999999999345, -2000, -2000, 1731.9999999999966, -2000, -2000, -2000, -2000, 4980.000000000016, -2000, -2000, -2000, -2000, -2000, 2961.000000000022, 5443.000000000013, 367.9999999999776, 6047.999999999988, 2432.0000000000127, -2000, -2000, -2000, -2000, 6186.99999999999, 3712.999999999974, 4237.999999999991, -2000, -2000, 11154.000000000002, 3726.000000000023, 1841.000000000024, -2000, 5094.000000000003, -2000, 14510.999999999984, -2000]\n",
      "84442.99999999997\n"
     ]
    }
   ],
   "source": [
    "max_draw_down = -2000\n",
    "\n",
    "week= []\n",
    "\n",
    "profit =[]\n",
    "\n",
    "for b in all_week_dataframes:\n",
    "    \n",
    "    week_name = 'week_' + b['week_path'][3:7]\n",
    "    \n",
    "    current_week_dataframe = b['dataframe'].iloc[: , :2]\n",
    "    \n",
    "    current_week_dataframe = current_week_dataframe.head(61)\n",
    "    \n",
    "    \n",
    "    # reverses dataframe so that iterrows walk through the rows from monday to friday\n",
    "    current_week_dataframe = current_week_dataframe.iloc[::-1]\n",
    "    \n",
    "    current_profit = current_week_dataframe['profit'].tail(1).values[0]\n",
    "   \n",
    "    \n",
    "    for index, row in current_week_dataframe.iterrows():\n",
    "        \n",
    "        if row.profit <= max_draw_down:\n",
    "            \n",
    "            current_profit = max_draw_down\n",
    "            \n",
    "            break\n",
    "        \n",
    "    profit.append(current_profit) \n",
    "    \n",
    "    week.append(week_name)\n",
    "   \n",
    "            \n",
    "            \n",
    "            \n",
    "print(len(week))          \n",
    "print(profit)    \n",
    "\n",
    "print(sum(profit))\n",
    "   "
   ]
  },
  {
   "cell_type": "code",
   "execution_count": 16,
   "id": "85fd895c",
   "metadata": {},
   "outputs": [],
   "source": [
    "combine_with_profit_with_stoploss = pd.DataFrame()\n",
    "combine_with_profit_with_stoploss['week'] = week\n",
    "combine_with_profit_with_stoploss['profit']= profit"
   ]
  },
  {
   "cell_type": "code",
   "execution_count": 17,
   "id": "c44525b3",
   "metadata": {},
   "outputs": [],
   "source": [
    "combine_with_profit_with_stoploss.to_csv('combine_with_profit_with_stoploss.csv')"
   ]
  },
  {
   "cell_type": "code",
   "execution_count": null,
   "id": "64da7721",
   "metadata": {},
   "outputs": [],
   "source": []
  },
  {
   "cell_type": "code",
   "execution_count": null,
   "id": "de929a58",
   "metadata": {},
   "outputs": [],
   "source": []
  }
 ],
 "metadata": {
  "kernelspec": {
   "display_name": "Python 3 (ipykernel)",
   "language": "python",
   "name": "python3"
  },
  "language_info": {
   "codemirror_mode": {
    "name": "ipython",
    "version": 3
   },
   "file_extension": ".py",
   "mimetype": "text/x-python",
   "name": "python",
   "nbconvert_exporter": "python",
   "pygments_lexer": "ipython3",
   "version": "3.8.7"
  }
 },
 "nbformat": 4,
 "nbformat_minor": 5
}
