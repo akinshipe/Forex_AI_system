{
 "cells": [
  {
   "cell_type": "code",
   "execution_count": 8,
   "id": "e7b6a24f",
   "metadata": {},
   "outputs": [],
   "source": [
    "import pandas as pd\n",
    "from sklearn.model_selection import train_test_split\n",
    "from sklearn.linear_model import LinearRegression\n",
    "from sklearn.ensemble import RandomForestClassifier\n",
    "from sklearn.neighbors import KNeighborsClassifier\n",
    "from sklearn.neural_network import MLPClassifier\n",
    "#import matplotlib.pyplot as plt\n",
    "from sklearn import metrics\n",
    "import numpy as np"
   ]
  },
  {
   "cell_type": "code",
   "execution_count": 9,
   "id": "bb4baae2",
   "metadata": {},
   "outputs": [],
   "source": [
    "currency_pairs = ['USDCHF10080',\n",
    "                 'GBPUSD10080', 'EURUSD10080', 'USDJPY10080', 'USDCAD10080', 'AUDUSD10080', 'NZDUSD10080',\n",
    "                 'GBPCHF10080', 'EURCHF10080', 'CHFJPY10080', 'CADCHF10080', 'AUDCHF10080', 'NZDCHF10080', 'EURGBP10080',\n",
    "                 'GBPJPY10080', 'GBPCAD10080', 'GBPAUD10080', 'EURJPY10080', 'EURCAD10080', 'EURAUD10080', 'EURNZD10080',\n",
    "                'CADJPY10080', 'AUDJPY10080', 'NZDJPY10080', 'AUDCAD10080', 'NZDCAD10080', 'AUDNZD10080'\n",
    "                ]\n",
    "\n",
    "headers = ['date', 'ignore', 'open', 'high', 'low', 'close', 'volume'  ]\n"
   ]
  },
  {
   "cell_type": "code",
   "execution_count": 10,
   "id": "5733bbb3",
   "metadata": {},
   "outputs": [
    {
     "name": "stderr",
     "output_type": "stream",
     "text": [
      "C:\\Users\\Laolu Hp 6550b\\AppData\\Local\\Programs\\Python\\Python39\\lib\\site-packages\\sklearn\\neural_network\\_multilayer_perceptron.py:614: ConvergenceWarning: Stochastic Optimizer: Maximum iterations (500) reached and the optimization hasn't converged yet.\n",
      "  warnings.warn(\n"
     ]
    },
    {
     "name": "stdout",
     "output_type": "stream",
     "text": [
      "-12 24 24 24\n",
      "USDCHF10080\n"
     ]
    },
    {
     "name": "stderr",
     "output_type": "stream",
     "text": [
      "C:\\Users\\Laolu Hp 6550b\\AppData\\Local\\Programs\\Python\\Python39\\lib\\site-packages\\sklearn\\neural_network\\_multilayer_perceptron.py:614: ConvergenceWarning: Stochastic Optimizer: Maximum iterations (500) reached and the optimization hasn't converged yet.\n",
      "  warnings.warn(\n"
     ]
    },
    {
     "name": "stdout",
     "output_type": "stream",
     "text": [
      "-16 -16 -16 -16\n",
      "3 24 24 24\n",
      "8 -20 -20 -20\n",
      "GBPUSD10080\n"
     ]
    },
    {
     "name": "stderr",
     "output_type": "stream",
     "text": [
      "C:\\Users\\Laolu Hp 6550b\\AppData\\Local\\Programs\\Python\\Python39\\lib\\site-packages\\sklearn\\neural_network\\_multilayer_perceptron.py:614: ConvergenceWarning: Stochastic Optimizer: Maximum iterations (500) reached and the optimization hasn't converged yet.\n",
      "  warnings.warn(\n"
     ]
    },
    {
     "name": "stdout",
     "output_type": "stream",
     "text": [
      "-5 20 20 20\n",
      "18 -24 -24 -24\n",
      "16 20 20 20\n",
      "EURUSD10080\n"
     ]
    },
    {
     "name": "stderr",
     "output_type": "stream",
     "text": [
      "C:\\Users\\Laolu Hp 6550b\\AppData\\Local\\Programs\\Python\\Python39\\lib\\site-packages\\sklearn\\neural_network\\_multilayer_perceptron.py:614: ConvergenceWarning: Stochastic Optimizer: Maximum iterations (500) reached and the optimization hasn't converged yet.\n",
      "  warnings.warn(\n"
     ]
    },
    {
     "name": "stdout",
     "output_type": "stream",
     "text": [
      "-36 18 18 18\n",
      "12 -36 -36 -24\n",
      "12 -18 -24 -24\n",
      "-12 24 24 24\n",
      "24 30 30 36\n",
      "-6 18 18 24\n",
      "12 18 24 36\n",
      "USDJPY10080\n"
     ]
    },
    {
     "name": "stderr",
     "output_type": "stream",
     "text": [
      "C:\\Users\\Laolu Hp 6550b\\AppData\\Local\\Programs\\Python\\Python39\\lib\\site-packages\\sklearn\\neural_network\\_multilayer_perceptron.py:614: ConvergenceWarning: Stochastic Optimizer: Maximum iterations (500) reached and the optimization hasn't converged yet.\n",
      "  warnings.warn(\n"
     ]
    },
    {
     "name": "stdout",
     "output_type": "stream",
     "text": [
      "2 -30 -30 -30\n",
      "-30 -25 -25 -16\n",
      "-2 24 24 24\n",
      "USDCAD10080\n"
     ]
    },
    {
     "name": "stderr",
     "output_type": "stream",
     "text": [
      "C:\\Users\\Laolu Hp 6550b\\AppData\\Local\\Programs\\Python\\Python39\\lib\\site-packages\\sklearn\\neural_network\\_multilayer_perceptron.py:614: ConvergenceWarning: Stochastic Optimizer: Maximum iterations (500) reached and the optimization hasn't converged yet.\n",
      "  warnings.warn(\n"
     ]
    },
    {
     "name": "stdout",
     "output_type": "stream",
     "text": [
      "3 -24 -24 -24\n",
      "1 24 24 24\n",
      "AUDUSD10080\n"
     ]
    },
    {
     "name": "stderr",
     "output_type": "stream",
     "text": [
      "C:\\Users\\Laolu Hp 6550b\\AppData\\Local\\Programs\\Python\\Python39\\lib\\site-packages\\sklearn\\neural_network\\_multilayer_perceptron.py:614: ConvergenceWarning: Stochastic Optimizer: Maximum iterations (500) reached and the optimization hasn't converged yet.\n",
      "  warnings.warn(\n"
     ]
    },
    {
     "name": "stdout",
     "output_type": "stream",
     "text": [
      "24 -20 -20 -20\n",
      "9 -30 -30 -30\n",
      "NZDUSD10080\n"
     ]
    },
    {
     "name": "stderr",
     "output_type": "stream",
     "text": [
      "C:\\Users\\Laolu Hp 6550b\\AppData\\Local\\Programs\\Python\\Python39\\lib\\site-packages\\sklearn\\neural_network\\_multilayer_perceptron.py:614: ConvergenceWarning: Stochastic Optimizer: Maximum iterations (500) reached and the optimization hasn't converged yet.\n",
      "  warnings.warn(\n"
     ]
    },
    {
     "name": "stdout",
     "output_type": "stream",
     "text": [
      "-8 18 25 18\n",
      "-6 30 30 16\n",
      "-6 -20 -20 -25\n",
      "-24 -20 -20 -30\n",
      "GBPCHF10080\n"
     ]
    },
    {
     "name": "stderr",
     "output_type": "stream",
     "text": [
      "C:\\Users\\Laolu Hp 6550b\\AppData\\Local\\Programs\\Python\\Python39\\lib\\site-packages\\sklearn\\neural_network\\_multilayer_perceptron.py:614: ConvergenceWarning: Stochastic Optimizer: Maximum iterations (500) reached and the optimization hasn't converged yet.\n",
      "  warnings.warn(\n"
     ]
    },
    {
     "name": "stdout",
     "output_type": "stream",
     "text": [
      "EURCHF10080\n"
     ]
    },
    {
     "name": "stderr",
     "output_type": "stream",
     "text": [
      "C:\\Users\\Laolu Hp 6550b\\AppData\\Local\\Programs\\Python\\Python39\\lib\\site-packages\\sklearn\\neural_network\\_multilayer_perceptron.py:614: ConvergenceWarning: Stochastic Optimizer: Maximum iterations (500) reached and the optimization hasn't converged yet.\n",
      "  warnings.warn(\n"
     ]
    },
    {
     "name": "stdout",
     "output_type": "stream",
     "text": [
      "-18 -18 -18 -18\n",
      "-24 -18 -18 -18\n",
      "36 18 18 36\n",
      "30 -30 -30 -30\n",
      "12 24 24 24\n",
      "-18 30 30 30\n",
      "-36 24 24 24\n",
      "-30 30 30 30\n",
      "12 -24 -24 -24\n",
      "-36 -18 -18 -18\n",
      "36 -24 -24 -18\n",
      "18 36 36 36\n",
      "24 36 36 18\n",
      "6 -18 -18 -18\n",
      "18 -18 -18 -36\n",
      "18 30 24 30\n",
      "12 -24 -18 -18\n",
      "30 36 36 36\n",
      "36 36 36 24\n",
      "36 -18 -18 -36\n",
      "CHFJPY10080\n"
     ]
    },
    {
     "name": "stderr",
     "output_type": "stream",
     "text": [
      "C:\\Users\\Laolu Hp 6550b\\AppData\\Local\\Programs\\Python\\Python39\\lib\\site-packages\\sklearn\\neural_network\\_multilayer_perceptron.py:614: ConvergenceWarning: Stochastic Optimizer: Maximum iterations (500) reached and the optimization hasn't converged yet.\n",
      "  warnings.warn(\n"
     ]
    },
    {
     "name": "stdout",
     "output_type": "stream",
     "text": [
      "-1 -16 -16 -16\n",
      "9 -16 -16 -16\n",
      "30 20 20 24\n",
      "CADCHF10080\n"
     ]
    },
    {
     "name": "stderr",
     "output_type": "stream",
     "text": [
      "C:\\Users\\Laolu Hp 6550b\\AppData\\Local\\Programs\\Python\\Python39\\lib\\site-packages\\sklearn\\neural_network\\_multilayer_perceptron.py:614: ConvergenceWarning: Stochastic Optimizer: Maximum iterations (500) reached and the optimization hasn't converged yet.\n",
      "  warnings.warn(\n"
     ]
    },
    {
     "name": "stdout",
     "output_type": "stream",
     "text": [
      "-3 24 24 24\n",
      "6 -20 -16 -20\n",
      "2 18 20 30\n",
      "AUDCHF10080\n"
     ]
    },
    {
     "name": "stderr",
     "output_type": "stream",
     "text": [
      "C:\\Users\\Laolu Hp 6550b\\AppData\\Local\\Programs\\Python\\Python39\\lib\\site-packages\\sklearn\\neural_network\\_multilayer_perceptron.py:614: ConvergenceWarning: Stochastic Optimizer: Maximum iterations (500) reached and the optimization hasn't converged yet.\n",
      "  warnings.warn(\n"
     ]
    },
    {
     "name": "stdout",
     "output_type": "stream",
     "text": [
      "6 -30 -30 -36\n",
      "-6 -24 -24 -20\n",
      "NZDCHF10080\n"
     ]
    },
    {
     "name": "stderr",
     "output_type": "stream",
     "text": [
      "C:\\Users\\Laolu Hp 6550b\\AppData\\Local\\Programs\\Python\\Python39\\lib\\site-packages\\sklearn\\neural_network\\_multilayer_perceptron.py:614: ConvergenceWarning: Stochastic Optimizer: Maximum iterations (500) reached and the optimization hasn't converged yet.\n",
      "  warnings.warn(\n"
     ]
    },
    {
     "name": "stdout",
     "output_type": "stream",
     "text": [
      "EURGBP10080\n"
     ]
    },
    {
     "name": "stderr",
     "output_type": "stream",
     "text": [
      "C:\\Users\\Laolu Hp 6550b\\AppData\\Local\\Programs\\Python\\Python39\\lib\\site-packages\\sklearn\\neural_network\\_multilayer_perceptron.py:614: ConvergenceWarning: Stochastic Optimizer: Maximum iterations (500) reached and the optimization hasn't converged yet.\n",
      "  warnings.warn(\n"
     ]
    },
    {
     "name": "stdout",
     "output_type": "stream",
     "text": [
      "-6 36 36 24\n",
      "30 -18 -30 -30\n",
      "-18 36 36 36\n",
      "18 24 36 36\n",
      "36 24 18 36\n",
      "30 36 36 36\n",
      "-18 24 36 36\n",
      "-36 -18 -18 -18\n",
      "30 36 24 24\n",
      "36 36 36 36\n",
      "-36 24 24 18\n",
      "-30 24 36 18\n",
      "-36 -24 -24 -24\n",
      "6 -18 -18 -18\n",
      "GBPJPY10080\n"
     ]
    },
    {
     "name": "stderr",
     "output_type": "stream",
     "text": [
      "C:\\Users\\Laolu Hp 6550b\\AppData\\Local\\Programs\\Python\\Python39\\lib\\site-packages\\sklearn\\neural_network\\_multilayer_perceptron.py:614: ConvergenceWarning: Stochastic Optimizer: Maximum iterations (500) reached and the optimization hasn't converged yet.\n",
      "  warnings.warn(\n"
     ]
    },
    {
     "name": "stdout",
     "output_type": "stream",
     "text": [
      "12 -24 -25 -25\n",
      "16 -20 -20 -36\n",
      "24 24 24 24\n",
      "30 30 20 25\n",
      "12 24 24 24\n",
      "10 16 24 16\n",
      "GBPCAD10080\n"
     ]
    },
    {
     "name": "stderr",
     "output_type": "stream",
     "text": [
      "C:\\Users\\Laolu Hp 6550b\\AppData\\Local\\Programs\\Python\\Python39\\lib\\site-packages\\sklearn\\neural_network\\_multilayer_perceptron.py:614: ConvergenceWarning: Stochastic Optimizer: Maximum iterations (500) reached and the optimization hasn't converged yet.\n",
      "  warnings.warn(\n"
     ]
    },
    {
     "name": "stdout",
     "output_type": "stream",
     "text": [
      "5 20 20 30\n",
      "-2 -30 -30 -30\n",
      "30 30 30 36\n",
      "-5 30 30 30\n",
      "-4 -20 -25 -36\n",
      "GBPAUD10080\n"
     ]
    },
    {
     "name": "stderr",
     "output_type": "stream",
     "text": [
      "C:\\Users\\Laolu Hp 6550b\\AppData\\Local\\Programs\\Python\\Python39\\lib\\site-packages\\sklearn\\neural_network\\_multilayer_perceptron.py:614: ConvergenceWarning: Stochastic Optimizer: Maximum iterations (500) reached and the optimization hasn't converged yet.\n",
      "  warnings.warn(\n"
     ]
    },
    {
     "name": "stdout",
     "output_type": "stream",
     "text": [
      "-36 -24 -24 -36\n",
      "-36 -18 -18 -18\n",
      "-24 36 18 18\n",
      "-18 -18 -18 -30\n",
      "6 36 36 36\n",
      "-24 36 36 30\n",
      "24 36 36 18\n",
      "30 -18 -24 -18\n",
      "-6 -18 -18 -18\n",
      "6 -36 -36 -36\n",
      "36 36 36 36\n",
      "-12 36 36 30\n",
      "6 24 24 30\n",
      "24 18 18 24\n",
      "30 36 36 36\n",
      "6 18 18 36\n",
      "-18 -18 -18 -18\n",
      "EURJPY10080\n"
     ]
    },
    {
     "name": "stderr",
     "output_type": "stream",
     "text": [
      "C:\\Users\\Laolu Hp 6550b\\AppData\\Local\\Programs\\Python\\Python39\\lib\\site-packages\\sklearn\\neural_network\\_multilayer_perceptron.py:614: ConvergenceWarning: Stochastic Optimizer: Maximum iterations (500) reached and the optimization hasn't converged yet.\n",
      "  warnings.warn(\n"
     ]
    },
    {
     "name": "stdout",
     "output_type": "stream",
     "text": [
      "-25 -30 -30 -30\n",
      "-25 20 20 20\n",
      "15 -20 -20 -18\n",
      "-20 20 20 20\n",
      "-4 30 30 24\n",
      "12 20 24 24\n",
      "EURCAD10080\n"
     ]
    },
    {
     "name": "stderr",
     "output_type": "stream",
     "text": [
      "C:\\Users\\Laolu Hp 6550b\\AppData\\Local\\Programs\\Python\\Python39\\lib\\site-packages\\sklearn\\neural_network\\_multilayer_perceptron.py:614: ConvergenceWarning: Stochastic Optimizer: Maximum iterations (500) reached and the optimization hasn't converged yet.\n",
      "  warnings.warn(\n"
     ]
    },
    {
     "name": "stdout",
     "output_type": "stream",
     "text": [
      "20 -25 -25 -16\n",
      "6 30 16 30\n",
      "-12 25 24 36\n",
      "EURAUD10080\n"
     ]
    },
    {
     "name": "stderr",
     "output_type": "stream",
     "text": [
      "C:\\Users\\Laolu Hp 6550b\\AppData\\Local\\Programs\\Python\\Python39\\lib\\site-packages\\sklearn\\neural_network\\_multilayer_perceptron.py:614: ConvergenceWarning: Stochastic Optimizer: Maximum iterations (500) reached and the optimization hasn't converged yet.\n",
      "  warnings.warn(\n"
     ]
    },
    {
     "name": "stdout",
     "output_type": "stream",
     "text": [
      "4 -24 -24 -24\n",
      "-18 -20 -20 -20\n",
      "-15 -20 -20 -18\n",
      "EURNZD10080\n"
     ]
    },
    {
     "name": "stderr",
     "output_type": "stream",
     "text": [
      "C:\\Users\\Laolu Hp 6550b\\AppData\\Local\\Programs\\Python\\Python39\\lib\\site-packages\\sklearn\\neural_network\\_multilayer_perceptron.py:614: ConvergenceWarning: Stochastic Optimizer: Maximum iterations (500) reached and the optimization hasn't converged yet.\n",
      "  warnings.warn(\n"
     ]
    },
    {
     "name": "stdout",
     "output_type": "stream",
     "text": [
      "-24 -24 -24 -30\n",
      "18 24 36 18\n",
      "12 -24 -24 -30\n",
      "-6 24 24 30\n",
      "18 -30 -18 -18\n",
      "-18 36 36 36\n",
      "12 36 36 30\n",
      "-24 36 36 36\n",
      "-12 18 18 18\n",
      "24 -24 -24 -18\n",
      "2 36 36 24\n",
      "18 36 18 18\n",
      "-30 18 18 18\n",
      "-24 36 36 36\n",
      "-18 18 36 18\n",
      "-6 36 36 36\n",
      "24 -30 -30 -30\n",
      "6 36 36 36\n",
      "CADJPY10080\n"
     ]
    },
    {
     "name": "stderr",
     "output_type": "stream",
     "text": [
      "C:\\Users\\Laolu Hp 6550b\\AppData\\Local\\Programs\\Python\\Python39\\lib\\site-packages\\sklearn\\neural_network\\_multilayer_perceptron.py:614: ConvergenceWarning: Stochastic Optimizer: Maximum iterations (500) reached and the optimization hasn't converged yet.\n",
      "  warnings.warn(\n"
     ]
    },
    {
     "name": "stdout",
     "output_type": "stream",
     "text": [
      "12 30 30 30\n",
      "18 -18 -18 -30\n",
      "36 -36 -36 -36\n",
      "-36 -18 -18 -18\n",
      "-18 -24 -18 -36\n",
      "36 -30 -30 -30\n",
      "-24 18 18 18\n",
      "6 -36 -36 -36\n",
      "24 -36 -18 -36\n",
      "12 18 18 18\n",
      "-4 24 24 24\n",
      "AUDJPY10080\n"
     ]
    },
    {
     "name": "stderr",
     "output_type": "stream",
     "text": [
      "C:\\Users\\Laolu Hp 6550b\\AppData\\Local\\Programs\\Python\\Python39\\lib\\site-packages\\sklearn\\neural_network\\_multilayer_perceptron.py:614: ConvergenceWarning: Stochastic Optimizer: Maximum iterations (500) reached and the optimization hasn't converged yet.\n",
      "  warnings.warn(\n"
     ]
    },
    {
     "name": "stdout",
     "output_type": "stream",
     "text": [
      "-36 24 24 24\n",
      "6 -18 -36 -30\n",
      "-16 -24 -24 -30\n",
      "12 -24 -18 -18\n",
      "-36 18 36 18\n",
      "36 36 24 30\n",
      "-6 -24 -24 -36\n",
      "-36 30 18 30\n",
      "36 24 18 24\n",
      "-12 36 36 18\n",
      "NZDJPY10080\n"
     ]
    },
    {
     "name": "stderr",
     "output_type": "stream",
     "text": [
      "C:\\Users\\Laolu Hp 6550b\\AppData\\Local\\Programs\\Python\\Python39\\lib\\site-packages\\sklearn\\neural_network\\_multilayer_perceptron.py:614: ConvergenceWarning: Stochastic Optimizer: Maximum iterations (500) reached and the optimization hasn't converged yet.\n",
      "  warnings.warn(\n"
     ]
    },
    {
     "name": "stdout",
     "output_type": "stream",
     "text": [
      "10 20 20 20\n",
      "12 24 24 24\n",
      "2 24 24 24\n",
      "-16 24 20 20\n",
      "AUDCAD10080\n"
     ]
    },
    {
     "name": "stderr",
     "output_type": "stream",
     "text": [
      "C:\\Users\\Laolu Hp 6550b\\AppData\\Local\\Programs\\Python\\Python39\\lib\\site-packages\\sklearn\\neural_network\\_multilayer_perceptron.py:614: ConvergenceWarning: Stochastic Optimizer: Maximum iterations (500) reached and the optimization hasn't converged yet.\n",
      "  warnings.warn(\n"
     ]
    },
    {
     "name": "stdout",
     "output_type": "stream",
     "text": [
      "6 20 20 25\n",
      "NZDCAD10080\n",
      "3 -20 -20 -20\n",
      "20 -24 -24 -24\n",
      "AUDNZD10080\n"
     ]
    },
    {
     "name": "stderr",
     "output_type": "stream",
     "text": [
      "C:\\Users\\Laolu Hp 6550b\\AppData\\Local\\Programs\\Python\\Python39\\lib\\site-packages\\sklearn\\neural_network\\_multilayer_perceptron.py:614: ConvergenceWarning: Stochastic Optimizer: Maximum iterations (500) reached and the optimization hasn't converged yet.\n",
      "  warnings.warn(\n"
     ]
    }
   ],
   "source": [
    "for x in currency_pairs:\n",
    "    \n",
    "    \n",
    "    current_currency = x.replace('10080','')\n",
    "    \n",
    "    data = pd.read_csv('files/' + current_currency + '.csv'  ) \n",
    "    \n",
    "    X = data.drop(columns=['date','nextweek_'+ current_currency])\n",
    "\n",
    "    y = data['nextweek_'+ current_currency]\n",
    "    \n",
    "    X_train, X_test, y_train, y_test = train_test_split(X, y, test_size=0.1, )\n",
    "\n",
    "    #model = LinearRegression()\n",
    "    #model.fit(X_train, y_train)\n",
    "    #y_pred = model.predict(X_test)\n",
    "    \n",
    "    \n",
    "    #clf=RandomForestClassifier(n_estimators=200, n_jobs =-1 )\n",
    "    #Train the model using the training sets y_pred=clf.predict(X_test)\n",
    "    #clf.fit(X_train,y_train)\n",
    "    #y_pred=clf.predict(X_test)\n",
    "    #print(y_pred)\n",
    "   \n",
    "    model = KNeighborsClassifier(n_neighbors = 17, weights='distance')\n",
    "    model.fit(X_train, y_train)\n",
    "    \n",
    "    config = []\n",
    "    \n",
    "    y_pred = model.predict(X_test)\n",
    "    \n",
    "    config.append(y_test.values)\n",
    "    config.append(y_pred)\n",
    "    \n",
    "         \n",
    "    clf=RandomForestClassifier(n_estimators=100, n_jobs =-1 )\n",
    "    #Train the model using the training sets y_pred=clf.predict(X_test)\n",
    "    clf.fit(X_train,y_train)\n",
    "    y_pred=clf.predict(X_test)\n",
    "    config.append(y_pred)\n",
    "    \n",
    "    \n",
    "    nn = MLPClassifier( random_state=1, max_iter=500)\n",
    "    \n",
    "    nn.fit(X_train, y_train)\n",
    "    \n",
    "    y_pred = nn.predict(X_test)\n",
    "    \n",
    "    config.append(y_pred)\n",
    "    \n",
    "    #combine_data['random-forest']= \n",
    "    \n",
    "  \n",
    "    \n",
    "    for index, i in enumerate(config[1]):\n",
    "        if (i>15 and config[2][index]>15 and config[3][index]>15 )  or (i < -15 and config[2][index] <-15 and config[3][index] <-15):\n",
    "            \n",
    "            print( config[0][index], i, config[2][index], config[3][index] )\n",
    "    \n",
    "    #if len(predicted) !=0:\n",
    "        \n",
    "        #print(metrics.mean_absolute_error(predicted, real))\n",
    "    print(x)\n",
    "    #print(combine_data)\n",
    "    #combine_data.to_csv( 'test_' + x + '.csv', index=False)"
   ]
  },
  {
   "cell_type": "code",
   "execution_count": null,
   "id": "4dcf4282",
   "metadata": {},
   "outputs": [],
   "source": []
  },
  {
   "cell_type": "code",
   "execution_count": 11,
   "id": "4909201c",
   "metadata": {},
   "outputs": [
    {
     "ename": "IndentationError",
     "evalue": "unexpected indent (Temp/ipykernel_6904/2999431442.py, line 2)",
     "output_type": "error",
     "traceback": [
      "\u001b[1;36m  File \u001b[1;32m\"C:\\Users\\LAOLUH~1\\AppData\\Local\\Temp/ipykernel_6904/2999431442.py\"\u001b[1;36m, line \u001b[1;32m2\u001b[0m\n\u001b[1;33m    real = []\u001b[0m\n\u001b[1;37m    ^\u001b[0m\n\u001b[1;31mIndentationError\u001b[0m\u001b[1;31m:\u001b[0m unexpected indent\n"
     ]
    }
   ],
   "source": [
    " predicted = []\n",
    "    real = []\n",
    "    \n",
    "    for index, y in enumerate(y_pred.tolist()) :\n",
    "        \n",
    "        if (y > 29 or y < -29) :\n",
    "            #print(y, y_test.tolist()[index])\n",
    "            predicted.append(y)\n",
    "            real.append(y_test.tolist()[index])\n",
    "        else:\n",
    "            predicted.append('NA')\n",
    "            real.append(y_test.tolist()[index])\n",
    "            \n",
    "            "
   ]
  }
 ],
 "metadata": {
  "kernelspec": {
   "display_name": "Python 3 (ipykernel)",
   "language": "python",
   "name": "python3"
  },
  "language_info": {
   "codemirror_mode": {
    "name": "ipython",
    "version": 3
   },
   "file_extension": ".py",
   "mimetype": "text/x-python",
   "name": "python",
   "nbconvert_exporter": "python",
   "pygments_lexer": "ipython3",
   "version": "3.9.7"
  }
 },
 "nbformat": 4,
 "nbformat_minor": 5
}
