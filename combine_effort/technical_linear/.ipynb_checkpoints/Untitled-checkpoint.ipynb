{
 "cells": [
  {
   "cell_type": "code",
   "execution_count": 1348,
   "id": "e7b6a24f",
   "metadata": {},
   "outputs": [],
   "source": [
    "import pandas as pd\n",
    "from sklearn.model_selection import train_test_split\n",
    "from sklearn.linear_model import LinearRegression\n",
    "from sklearn.ensemble import RandomForestClassifier\n",
    "from sklearn.ensemble import RandomForestRegressor\n",
    "from sklearn.neighbors import KNeighborsClassifier\n",
    "from sklearn.neural_network import MLPClassifier\n",
    "#import matplotlib.pyplot as plt\n",
    "from sklearn import metrics\n",
    "import numpy as np"
   ]
  },
  {
   "cell_type": "code",
   "execution_count": 1349,
   "id": "bb4baae2",
   "metadata": {},
   "outputs": [],
   "source": [
    "#currency_pairs = ['USDCHF10080',\n",
    "                 #'GBPUSD10080', 'EURUSD10080', 'USDJPY10080', 'USDCAD10080', 'AUDUSD10080', 'NZDUSD10080',\n",
    "                 #'GBPCHF10080', 'EURCHF10080', 'CHFJPY10080', 'CADCHF10080', 'AUDCHF10080', 'NZDCHF10080', 'EURGBP10080',\n",
    "                 #'GBPJPY10080', 'GBPCAD10080', 'GBPAUD10080', 'EURJPY10080', 'EURCAD10080', 'EURAUD10080', 'EURNZD10080',\n",
    "                #'CADJPY10080', 'AUDJPY10080', 'NZDJPY10080', 'AUDCAD10080', 'NZDCAD10080', 'AUDNZD10080'\n",
    "                #]\n",
    "\n",
    "headers = ['date', 'ignore', 'open', 'high', 'low', 'close', 'volume'  ]\n"
   ]
  },
  {
   "cell_type": "code",
   "execution_count": null,
   "id": "5733bbb3",
   "metadata": {},
   "outputs": [
    {
     "name": "stdout",
     "output_type": "stream",
     "text": [
      "0\n"
     ]
    }
   ],
   "source": [
    "percent =[]\n",
    "for x in range(500):\n",
    "    \n",
    "    \n",
    "    current_currency = 'USDCHF10080'.replace('10080','')\n",
    "    \n",
    "    data = pd.read_csv('files/' + current_currency + '.csv'  ) \n",
    "    #print(len(data))\n",
    "    data = data.head(len(data)-0)\n",
    "    #print(len(data))\n",
    "    \n",
    "    \n",
    "    X = data.drop(columns=['date','nextweek_'+ current_currency])\n",
    "\n",
    "    y = data['nextweek_'+ current_currency]\n",
    "    \n",
    "    X_train = X[20:]\n",
    "    y_train = y[20:]\n",
    "    X_test = X[:20]\n",
    "    y_test = y[:20]\n",
    "    \n",
    "    \n",
    "   \n",
    "    \n",
    "    #X_train, X_test, y_train, y_test = train_test_split(X, y, test_size=0.1, random_state=1 )\n",
    "    \n",
    "    \n",
    "         \n",
    "    clf=RandomForestRegressor(n_estimators=100, n_jobs =-1 )\n",
    "    #Train the model using the training sets y_pred=clf.predict(X_test)\n",
    "    clf.fit(X_train,y_train)\n",
    "    y_pred=clf.predict(X_test)\n",
    "   \n",
    "    #class_percent = 0\n",
    "    #for index, q in enumerate(y_pred):\n",
    "        #if q == y_test[index]:\n",
    "            #class_percent = class_percent+1\n",
    "        #print( q, y_test[index])\n",
    "    #print(current_currency,100*class_percent/len(y_pred),'%')\n",
    "    \n",
    "    \n",
    "    #print('Regressor test ----------------------------------------------------------------------------------------------')\n",
    "    \n",
    "    cut_off = 0.65\n",
    "    regress_percent = 0\n",
    "    total_items =0 \n",
    "    \n",
    "    for index, q in enumerate(y_pred):\n",
    "        \n",
    "        if q > cut_off  or q < (-1*cut_off) :\n",
    "            total_items = total_items + 1\n",
    "            #print(q, y_test[index])\n",
    "            \n",
    "            if q > 0 and y_test[index] == 1 or q < 0 and y_test[index] == -1:\n",
    "                regress_percent = regress_percent +1\n",
    "            \n",
    "    if total_items != 0:\n",
    "        current_percentage =  100*regress_percent/total_items\n",
    "        #print(current_currency, current_percentage,'%')\n",
    "        percent.append(current_percentage)\n",
    "    \n",
    "    \n",
    "    if x % 100 == 0:\n",
    "        print(x)\n",
    "print('usdchf average percent is ', sum(percent)/len(percent))"
   ]
  },
  {
   "cell_type": "code",
   "execution_count": null,
   "id": "4dcf4282",
   "metadata": {},
   "outputs": [],
   "source": []
  },
  {
   "cell_type": "code",
   "execution_count": null,
   "id": "4909201c",
   "metadata": {},
   "outputs": [],
   "source": []
  }
 ],
 "metadata": {
  "kernelspec": {
   "display_name": "Python 3 (ipykernel)",
   "language": "python",
   "name": "python3"
  },
  "language_info": {
   "codemirror_mode": {
    "name": "ipython",
    "version": 3
   },
   "file_extension": ".py",
   "mimetype": "text/x-python",
   "name": "python",
   "nbconvert_exporter": "python",
   "pygments_lexer": "ipython3",
   "version": "3.8.7"
  }
 },
 "nbformat": 4,
 "nbformat_minor": 5
}
