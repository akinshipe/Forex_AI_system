{
 "cells": [
  {
   "cell_type": "code",
   "execution_count": null,
   "id": "e7b6a24f",
   "metadata": {},
   "outputs": [],
   "source": [
    "import pandas as pd\n",
    "from sklearn.model_selection import train_test_split\n",
    "from sklearn.linear_model import LinearRegression\n",
    "from sklearn.ensemble import RandomForestClassifier\n",
    "from sklearn.ensemble import RandomForestRegressor\n",
    "from sklearn.neighbors import KNeighborsClassifier\n",
    "from sklearn.neural_network import MLPClassifier\n",
    "#import matplotlib.pyplot as plt\n",
    "from sklearn import metrics\n",
    "import numpy as np"
   ]
  },
  {
   "cell_type": "code",
   "execution_count": null,
   "id": "bb4baae2",
   "metadata": {},
   "outputs": [],
   "source": [
    "#currency_pairs = ['USDCHF10080',\n",
    "                 #'GBPUSD10080', 'EURUSD10080', 'USDJPY10080', 'USDCAD10080', 'AUDUSD10080', 'NZDUSD10080',\n",
    "                 #'GBPCHF10080', 'EURCHF10080', 'CHFJPY10080', 'CADCHF10080', 'AUDCHF10080', 'NZDCHF10080', 'EURGBP10080',\n",
    "                 #'GBPJPY10080', 'GBPCAD10080', 'GBPAUD10080', 'EURJPY10080', 'EURCAD10080', 'EURAUD10080', 'EURNZD10080',\n",
    "                #'CADJPY10080', 'AUDJPY10080', 'NZDJPY10080', 'AUDCAD10080', 'NZDCAD10080', 'AUDNZD10080'\n",
    "                #]\n",
    "\n",
    "headers = ['date', 'ignore', 'open', 'high', 'low', 'close', 'volume'  ]\n"
   ]
  },
  {
   "cell_type": "code",
   "execution_count": null,
   "id": "5364c4b8",
   "metadata": {},
   "outputs": [],
   "source": [
    "current_currency = 'USDCHF10080'.replace('10080','')\n",
    "raw_data = pd.read_csv('files/' + current_currency + '.csv'  ) "
   ]
  },
  {
   "cell_type": "code",
   "execution_count": null,
   "id": "5733bbb3",
   "metadata": {},
   "outputs": [],
   "source": [
    "\n",
    "\n",
    "number_of_accurate_prediction = 0\n",
    "number_of_trades = 0\n",
    "\n",
    "\n",
    "step_down = 20\n",
    "cut_off = 0\n",
    "n_estimators = 4000\n",
    "min_samples_leaf = 1\n",
    "max_features = \"auto\"\n",
    "max_samples = None\n",
    "\n",
    "\n",
    "\n",
    "for v in range(step_down):\n",
    "    \n",
    "    print('step_down ', v)\n",
    "\n",
    "    \n",
    "    data = raw_data.copy()\n",
    "    data = data[v:]\n",
    "    #print(data['date'].head(1))\n",
    "      \n",
    "    \n",
    "\n",
    "    X = data.drop(columns=[\n",
    "                                'date',\n",
    "                               'nextweek_'+ current_currency])\n",
    "\n",
    "    y = data['nextweek_'+ current_currency]\n",
    "\n",
    "\n",
    "\n",
    "\n",
    "    X_train = X[1:]\n",
    "    y_train = y[1:]\n",
    "    X_test = X[:1]\n",
    "    y_test = y[:1]\n",
    "    \n",
    "  \n",
    "\n",
    "    clf=RandomForestRegressor(n_estimators=n_estimators, n_jobs =-1, min_samples_leaf=min_samples_leaf,\n",
    "                                 max_features=max_features, max_samples = max_samples)\n",
    "   \n",
    "    clf.fit(X_train,y_train)\n",
    "    y_pred=clf.predict(X_test)\n",
    "     \n",
    "\n",
    "    y_test = y_test.values\n",
    "\n",
    "   \n",
    "   \n",
    "\n",
    "    if y_pred[0] > cut_off  or y_pred[0] < (-1*cut_off) :\n",
    "        number_of_trades = number_of_trades + 1\n",
    "        #print(y_pred[0], y_test[0])\n",
    "       \n",
    "\n",
    "        if (y_pred[0] > 0 and y_test[0] == 1) or (y_pred[0] < 0 and y_test[0]) == -1:\n",
    "             number_of_accurate_prediction = number_of_accurate_prediction +1\n",
    "\n",
    "            \n",
    "print(number_of_accurate_prediction)\n",
    "print(number_of_trades)  \n",
    "\n",
    "print('Accuracy is ', 100*number_of_accurate_prediction/number_of_trades,'%')\n",
    "print('Avereage trade  trade per weeks is ',  number_of_trades/step_down)\n"
   ]
  },
  {
   "cell_type": "code",
   "execution_count": null,
   "id": "4dcf4282",
   "metadata": {},
   "outputs": [],
   "source": [
    "feature_importance = pd.DataFrame(clf.feature_importances_,\n",
    "                        index = X_train.columns,\n",
    "                        columns = ['importance']).sort_values('importance', ascending =False)\n",
    "feature_importance"
   ]
  },
  {
   "cell_type": "code",
   "execution_count": null,
   "id": "4909201c",
   "metadata": {},
   "outputs": [],
   "source": []
  }
 ],
 "metadata": {
  "kernelspec": {
   "display_name": "Python 3 (ipykernel)",
   "language": "python",
   "name": "python3"
  },
  "language_info": {
   "codemirror_mode": {
    "name": "ipython",
    "version": 3
   },
   "file_extension": ".py",
   "mimetype": "text/x-python",
   "name": "python",
   "nbconvert_exporter": "python",
   "pygments_lexer": "ipython3",
   "version": "3.8.7"
  }
 },
 "nbformat": 4,
 "nbformat_minor": 5
}
