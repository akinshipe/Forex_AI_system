{
 "cells": [
  {
   "cell_type": "code",
   "execution_count": 1,
   "id": "ea3c7df7",
   "metadata": {},
   "outputs": [],
   "source": [
    "import pandas as pd\n",
    "from sklearn.model_selection import train_test_split\n",
    "from sklearn.linear_model import LinearRegression\n",
    "from sklearn.preprocessing import OneHotEncoder, OrdinalEncoder\n",
    "#import matplotlib.pyplot as plt\n",
    "from sklearn import metrics\n",
    "import numpy as np\n",
    "from sklearn.compose import make_column_transformer\n",
    "import time\n",
    "from datetime import datetime"
   ]
  },
  {
   "cell_type": "code",
   "execution_count": 2,
   "id": "f15cbae7",
   "metadata": {},
   "outputs": [],
   "source": [
    "currency_pairs = ['USDCHF10080',\n",
    "                 'GBPUSD10080', 'EURUSD10080', 'USDJPY10080', 'USDCAD10080', 'AUDUSD10080', 'NZDUSD10080',\n",
    "                 'GBPCHF10080', 'EURCHF10080', 'CHFJPY10080', 'CADCHF10080', 'AUDCHF10080', 'NZDCHF10080', 'EURGBP10080',\n",
    "                 'GBPJPY10080', 'GBPCAD10080', 'GBPAUD10080', 'EURJPY10080', 'EURCAD10080', 'EURAUD10080', 'EURNZD10080',\n",
    "                'CADJPY10080', 'AUDJPY10080', 'NZDJPY10080', 'AUDCAD10080', 'NZDCAD10080', 'AUDNZD10080'\n",
    "                ]\n",
    "\n",
    "headers = ['date', 'ignore', 'open', 'high', 'low', 'close', 'volume'  ]\n",
    "\n",
    "# this is the current week date, not the prediction date\n",
    "current_week = '2020.12.27'\n"
   ]
  },
  {
   "cell_type": "code",
   "execution_count": 3,
   "id": "92db5ac2",
   "metadata": {},
   "outputs": [
    {
     "name": "stdout",
     "output_type": "stream",
     "text": [
      "           date ignore     open     high      low    close  volume\n",
      "0    2007.08.19  00:00  0.73240  0.75930  0.73080  0.75890   27092\n",
      "1    2007.08.26  00:00  0.76320  0.76460  0.73300  0.74080   20523\n",
      "2    2007.09.02  00:00  0.74150  0.74360  0.72040  0.72930   23055\n",
      "3    2007.09.09  00:00  0.72440  0.74260  0.72130  0.73450   35770\n",
      "4    2007.09.16  00:00  0.73390  0.74840  0.72010  0.74410   48732\n",
      "..          ...    ...      ...      ...      ...      ...     ...\n",
      "688  2020.11.29  00:00  0.91272  0.91629  0.89876  0.89981  276848\n",
      "689  2020.12.06  00:00  0.89943  0.90661  0.89841  0.90477  270211\n",
      "690  2020.12.13  00:00  0.90502  0.91290  0.89927  0.91263  245197\n",
      "691  2020.12.20  00:00  0.90992  0.91367  0.90544  0.91365  223175\n",
      "692  2020.12.27  00:00  0.91066  0.92230  0.91050  0.91644  167848\n",
      "\n",
      "[693 rows x 7 columns]\n",
      "693\n"
     ]
    }
   ],
   "source": [
    "\n",
    "shortest_row_currency = pd.read_csv('recent_data/' + 'NZDCAD10080' + '.csv', names=headers  )  \n",
    "\n",
    "shortest_row_currency = shortest_row_currency.loc[  (shortest_row_currency['date'] <= current_week)   ]                                                       \n",
    "    \n",
    "\n",
    "\n",
    "print(shortest_row_currency)\n",
    "\n",
    "#this reverses the rows so as to have the recent timeframe at the top\n",
    "shortest_row_currency = shortest_row_currency.sort_index(axis=0,ascending=False)\n",
    "\n",
    "\n",
    "shortest_row_date = shortest_row_currency['date'].values.tolist()\n",
    "\n",
    "\n",
    "print(len(shortest_row_date))\n",
    "    "
   ]
  },
  {
   "cell_type": "code",
   "execution_count": 4,
   "id": "c6470e57",
   "metadata": {},
   "outputs": [
    {
     "name": "stdout",
     "output_type": "stream",
     "text": [
      "20\n",
      "673\n"
     ]
    }
   ],
   "source": [
    "missing_date = []\n",
    "\n",
    "\n",
    "for x in currency_pairs:\n",
    "    \n",
    "    current_currency = pd.read_csv('recent_data/' + x + '.csv', names=headers  )  \n",
    "    \n",
    "    current_currency_date = current_currency['date'].values.tolist()\n",
    "    \n",
    "    \n",
    "   \n",
    "   \n",
    "    for j in shortest_row_date:\n",
    "        \n",
    "        if j not in current_currency_date:\n",
    "            \n",
    "            missing_date.append(j)\n",
    "        \n",
    "            \n",
    "\n",
    "# this get the unique time frames because time frames could have been duplicated from different currencies \n",
    "missing_date = np.unique(missing_date)   \n",
    "\n",
    "\n",
    "\n",
    "for x in missing_date:\n",
    "    shortest_row_date.remove(x)\n",
    "            \n",
    "print(len(missing_date))\n",
    "print(len(shortest_row_date))\n",
    "\n",
    "\n",
    "\n",
    "\n",
    "combine_data = pd.DataFrame()\n",
    "combine_data['date']= shortest_row_date"
   ]
  },
  {
   "cell_type": "code",
   "execution_count": 5,
   "id": "df0a7aa7",
   "metadata": {},
   "outputs": [],
   "source": [
    "#year = []\n",
    "#month=[]\n",
    "#day =[]\n",
    "\n",
    "\n",
    "#for c in shortest_row_date:\n",
    "#    year.append(c[:4] + '_year')\n",
    "#    month.append(c[5:7] + '_month')\n",
    "#    day.append(c[8:10] + '_day')\n",
    "\n",
    "    \n",
    "    \n",
    "    \n",
    "\n"
   ]
  },
  {
   "cell_type": "code",
   "execution_count": 6,
   "id": "e8df528f",
   "metadata": {},
   "outputs": [],
   "source": [
    "\n",
    "#combine_data['year']= year\n",
    "#combine_data['month'] = month\n",
    "#combine_data['day'] = day\n",
    "\n",
    "#column_trans = make_column_transformer(  \n",
    "#    (OneHotEncoder(sparse=False), ['year','month','day'  ]),\n",
    "#    remainder ='passthrough')\n",
    "\n",
    "#combine_data = column_trans.fit_transform(combine_data)\n",
    "#combine_data.shape\n",
    "#column_names = column_trans.get_feature_names()\n",
    "#combine_data = pd.DataFrame(combine_data, columns=column_names)\n",
    "\n",
    "#print(combine_data)\n"
   ]
  },
  {
   "cell_type": "code",
   "execution_count": 7,
   "id": "92912945",
   "metadata": {},
   "outputs": [
    {
     "name": "stdout",
     "output_type": "stream",
     "text": [
      "USDCHF10080\n",
      "GBPUSD10080\n",
      "EURUSD10080\n",
      "USDJPY10080\n",
      "USDCAD10080\n",
      "AUDUSD10080\n",
      "NZDUSD10080\n",
      "GBPCHF10080\n",
      "EURCHF10080\n",
      "CHFJPY10080\n",
      "CADCHF10080\n",
      "AUDCHF10080\n",
      "NZDCHF10080\n",
      "EURGBP10080\n",
      "GBPJPY10080\n",
      "GBPCAD10080\n",
      "GBPAUD10080\n",
      "EURJPY10080\n",
      "EURCAD10080\n",
      "EURAUD10080\n",
      "EURNZD10080\n",
      "CADJPY10080\n",
      "AUDJPY10080\n",
      "NZDJPY10080\n",
      "AUDCAD10080\n",
      "NZDCAD10080\n",
      "AUDNZD10080\n"
     ]
    }
   ],
   "source": [
    "\n",
    "\n",
    "for q in currency_pairs:\n",
    "\n",
    "    current_currency = pd.read_csv('recent_data/' + q + '.csv', names=headers  )\n",
    "    \n",
    "    \n",
    "    # classify each row and attach numeric score to it\n",
    "    classification_score = []\n",
    "    \n",
    "    \n",
    "    \n",
    "    for b in shortest_row_date:\n",
    "            \n",
    "        row = current_currency[current_currency.date ==  b]\n",
    "        \n",
    "       \n",
    "        # condition when the curreny movement is a buy\n",
    "\n",
    "        \n",
    "        if row.open.item() < row.close.item():\n",
    "            \n",
    "            classification_score.append(1)\n",
    "        else:\n",
    "            classification_score.append(-1)\n",
    "\n",
    "    current_currency_pair = q.replace('10080','')\n",
    "    \n",
    "    \n",
    "    \n",
    "    combine_data[current_currency_pair] = classification_score\n",
    "      \n",
    "    #this is for adding last 1 week columns\n",
    "    #combine_data[current_currency_pair +'_last_1_week'] =  combine_data[current_currency_pair].shift(periods =-1)\n",
    "    \n",
    "  \n",
    "           \n",
    "    print(q)          \n",
    "    \n",
    "#this is for removung the last 1 row because of the added last 1 week colmn\n",
    "#combine_data = combine_data[:len(combine_data.index)-1]        "
   ]
  },
  {
   "cell_type": "code",
   "execution_count": 8,
   "id": "ea4c210b",
   "metadata": {},
   "outputs": [],
   "source": [
    "current_week_values = combine_data.head(1)\n",
    "current_week_values.to_csv('current_week_values/current_week_values.csv', index=False)\n"
   ]
  },
  {
   "cell_type": "code",
   "execution_count": 9,
   "id": "8f7e9af0",
   "metadata": {},
   "outputs": [
    {
     "name": "stdout",
     "output_type": "stream",
     "text": [
      "USDCHF\n",
      "GBPUSD\n",
      "EURUSD\n",
      "USDJPY\n",
      "USDCAD\n",
      "AUDUSD\n",
      "NZDUSD\n",
      "GBPCHF\n",
      "EURCHF\n",
      "CHFJPY\n",
      "CADCHF\n",
      "AUDCHF\n",
      "NZDCHF\n",
      "EURGBP\n",
      "GBPJPY\n",
      "GBPCAD\n",
      "GBPAUD\n",
      "EURJPY\n",
      "EURCAD\n",
      "EURAUD\n",
      "EURNZD\n",
      "CADJPY\n",
      "AUDJPY\n",
      "NZDJPY\n",
      "AUDCAD\n",
      "NZDCAD\n",
      "AUDNZD\n"
     ]
    }
   ],
   "source": [
    "for g in currency_pairs:\n",
    "    \n",
    "    new_data = combine_data.copy()\n",
    "    current_currency_pair = g.replace('10080','')\n",
    "    needed_column = new_data[current_currency_pair].values.tolist()\n",
    "    needed_column.insert(0,0)\n",
    "    needed_column.pop()\n",
    "    \n",
    "    new_data.insert(loc=1, column = 'nextweek_' + current_currency_pair, value= needed_column)\n",
    "    new_data = new_data.iloc[1: , :]\n",
    "   \n",
    "   \n",
    "    new_data.to_csv('files/' + current_currency_pair + '.csv', index=False)\n",
    "    print(current_currency_pair)\n",
    "    "
   ]
  },
  {
   "cell_type": "code",
   "execution_count": 10,
   "id": "3c0e063c",
   "metadata": {},
   "outputs": [
    {
     "ename": "FileNotFoundError",
     "evalue": "[Errno 2] No such file or directory: 'control.csv'",
     "output_type": "error",
     "traceback": [
      "\u001b[1;31m---------------------------------------------------------------------------\u001b[0m",
      "\u001b[1;31mFileNotFoundError\u001b[0m                         Traceback (most recent call last)",
      "\u001b[1;32mC:\\Users\\AKINSH~1\\AppData\\Local\\Temp/ipykernel_1076/1189258940.py\u001b[0m in \u001b[0;36m<module>\u001b[1;34m\u001b[0m\n\u001b[1;32m----> 1\u001b[1;33m \u001b[0mcontrol_dataframe\u001b[0m \u001b[1;33m=\u001b[0m \u001b[0mpd\u001b[0m\u001b[1;33m.\u001b[0m\u001b[0mread_csv\u001b[0m\u001b[1;33m(\u001b[0m\u001b[1;34m'control.csv'\u001b[0m \u001b[1;33m)\u001b[0m\u001b[1;33m\u001b[0m\u001b[1;33m\u001b[0m\u001b[0m\n\u001b[0m\u001b[0;32m      2\u001b[0m \u001b[0mcontrol_dataframe\u001b[0m\u001b[1;33m[\u001b[0m\u001b[1;34m'classify'\u001b[0m\u001b[1;33m]\u001b[0m\u001b[1;33m.\u001b[0m\u001b[0miloc\u001b[0m\u001b[1;33m[\u001b[0m\u001b[1;33m:\u001b[0m\u001b[1;36m1\u001b[0m\u001b[1;33m]\u001b[0m \u001b[1;33m=\u001b[0m \u001b[1;36m1\u001b[0m\u001b[1;33m\u001b[0m\u001b[1;33m\u001b[0m\u001b[0m\n\u001b[0;32m      3\u001b[0m \u001b[1;33m\u001b[0m\u001b[0m\n\u001b[0;32m      4\u001b[0m \u001b[1;33m\u001b[0m\u001b[0m\n\u001b[0;32m      5\u001b[0m \u001b[0mprint\u001b[0m\u001b[1;33m(\u001b[0m\u001b[0mcontrol_dataframe\u001b[0m\u001b[1;33m)\u001b[0m\u001b[1;33m\u001b[0m\u001b[1;33m\u001b[0m\u001b[0m\n",
      "\u001b[1;32mc:\\users\\akinshipe\\appdata\\local\\programs\\python\\python38\\lib\\site-packages\\pandas\\util\\_decorators.py\u001b[0m in \u001b[0;36mwrapper\u001b[1;34m(*args, **kwargs)\u001b[0m\n\u001b[0;32m    309\u001b[0m                     \u001b[0mstacklevel\u001b[0m\u001b[1;33m=\u001b[0m\u001b[0mstacklevel\u001b[0m\u001b[1;33m,\u001b[0m\u001b[1;33m\u001b[0m\u001b[1;33m\u001b[0m\u001b[0m\n\u001b[0;32m    310\u001b[0m                 )\n\u001b[1;32m--> 311\u001b[1;33m             \u001b[1;32mreturn\u001b[0m \u001b[0mfunc\u001b[0m\u001b[1;33m(\u001b[0m\u001b[1;33m*\u001b[0m\u001b[0margs\u001b[0m\u001b[1;33m,\u001b[0m \u001b[1;33m**\u001b[0m\u001b[0mkwargs\u001b[0m\u001b[1;33m)\u001b[0m\u001b[1;33m\u001b[0m\u001b[1;33m\u001b[0m\u001b[0m\n\u001b[0m\u001b[0;32m    312\u001b[0m \u001b[1;33m\u001b[0m\u001b[0m\n\u001b[0;32m    313\u001b[0m         \u001b[1;32mreturn\u001b[0m \u001b[0mwrapper\u001b[0m\u001b[1;33m\u001b[0m\u001b[1;33m\u001b[0m\u001b[0m\n",
      "\u001b[1;32mc:\\users\\akinshipe\\appdata\\local\\programs\\python\\python38\\lib\\site-packages\\pandas\\io\\parsers\\readers.py\u001b[0m in \u001b[0;36mread_csv\u001b[1;34m(filepath_or_buffer, sep, delimiter, header, names, index_col, usecols, squeeze, prefix, mangle_dupe_cols, dtype, engine, converters, true_values, false_values, skipinitialspace, skiprows, skipfooter, nrows, na_values, keep_default_na, na_filter, verbose, skip_blank_lines, parse_dates, infer_datetime_format, keep_date_col, date_parser, dayfirst, cache_dates, iterator, chunksize, compression, thousands, decimal, lineterminator, quotechar, quoting, doublequote, escapechar, comment, encoding, encoding_errors, dialect, error_bad_lines, warn_bad_lines, on_bad_lines, delim_whitespace, low_memory, memory_map, float_precision, storage_options)\u001b[0m\n\u001b[0;32m    584\u001b[0m     \u001b[0mkwds\u001b[0m\u001b[1;33m.\u001b[0m\u001b[0mupdate\u001b[0m\u001b[1;33m(\u001b[0m\u001b[0mkwds_defaults\u001b[0m\u001b[1;33m)\u001b[0m\u001b[1;33m\u001b[0m\u001b[1;33m\u001b[0m\u001b[0m\n\u001b[0;32m    585\u001b[0m \u001b[1;33m\u001b[0m\u001b[0m\n\u001b[1;32m--> 586\u001b[1;33m     \u001b[1;32mreturn\u001b[0m \u001b[0m_read\u001b[0m\u001b[1;33m(\u001b[0m\u001b[0mfilepath_or_buffer\u001b[0m\u001b[1;33m,\u001b[0m \u001b[0mkwds\u001b[0m\u001b[1;33m)\u001b[0m\u001b[1;33m\u001b[0m\u001b[1;33m\u001b[0m\u001b[0m\n\u001b[0m\u001b[0;32m    587\u001b[0m \u001b[1;33m\u001b[0m\u001b[0m\n\u001b[0;32m    588\u001b[0m \u001b[1;33m\u001b[0m\u001b[0m\n",
      "\u001b[1;32mc:\\users\\akinshipe\\appdata\\local\\programs\\python\\python38\\lib\\site-packages\\pandas\\io\\parsers\\readers.py\u001b[0m in \u001b[0;36m_read\u001b[1;34m(filepath_or_buffer, kwds)\u001b[0m\n\u001b[0;32m    480\u001b[0m \u001b[1;33m\u001b[0m\u001b[0m\n\u001b[0;32m    481\u001b[0m     \u001b[1;31m# Create the parser.\u001b[0m\u001b[1;33m\u001b[0m\u001b[1;33m\u001b[0m\u001b[1;33m\u001b[0m\u001b[0m\n\u001b[1;32m--> 482\u001b[1;33m     \u001b[0mparser\u001b[0m \u001b[1;33m=\u001b[0m \u001b[0mTextFileReader\u001b[0m\u001b[1;33m(\u001b[0m\u001b[0mfilepath_or_buffer\u001b[0m\u001b[1;33m,\u001b[0m \u001b[1;33m**\u001b[0m\u001b[0mkwds\u001b[0m\u001b[1;33m)\u001b[0m\u001b[1;33m\u001b[0m\u001b[1;33m\u001b[0m\u001b[0m\n\u001b[0m\u001b[0;32m    483\u001b[0m \u001b[1;33m\u001b[0m\u001b[0m\n\u001b[0;32m    484\u001b[0m     \u001b[1;32mif\u001b[0m \u001b[0mchunksize\u001b[0m \u001b[1;32mor\u001b[0m \u001b[0miterator\u001b[0m\u001b[1;33m:\u001b[0m\u001b[1;33m\u001b[0m\u001b[1;33m\u001b[0m\u001b[0m\n",
      "\u001b[1;32mc:\\users\\akinshipe\\appdata\\local\\programs\\python\\python38\\lib\\site-packages\\pandas\\io\\parsers\\readers.py\u001b[0m in \u001b[0;36m__init__\u001b[1;34m(self, f, engine, **kwds)\u001b[0m\n\u001b[0;32m    809\u001b[0m             \u001b[0mself\u001b[0m\u001b[1;33m.\u001b[0m\u001b[0moptions\u001b[0m\u001b[1;33m[\u001b[0m\u001b[1;34m\"has_index_names\"\u001b[0m\u001b[1;33m]\u001b[0m \u001b[1;33m=\u001b[0m \u001b[0mkwds\u001b[0m\u001b[1;33m[\u001b[0m\u001b[1;34m\"has_index_names\"\u001b[0m\u001b[1;33m]\u001b[0m\u001b[1;33m\u001b[0m\u001b[1;33m\u001b[0m\u001b[0m\n\u001b[0;32m    810\u001b[0m \u001b[1;33m\u001b[0m\u001b[0m\n\u001b[1;32m--> 811\u001b[1;33m         \u001b[0mself\u001b[0m\u001b[1;33m.\u001b[0m\u001b[0m_engine\u001b[0m \u001b[1;33m=\u001b[0m \u001b[0mself\u001b[0m\u001b[1;33m.\u001b[0m\u001b[0m_make_engine\u001b[0m\u001b[1;33m(\u001b[0m\u001b[0mself\u001b[0m\u001b[1;33m.\u001b[0m\u001b[0mengine\u001b[0m\u001b[1;33m)\u001b[0m\u001b[1;33m\u001b[0m\u001b[1;33m\u001b[0m\u001b[0m\n\u001b[0m\u001b[0;32m    812\u001b[0m \u001b[1;33m\u001b[0m\u001b[0m\n\u001b[0;32m    813\u001b[0m     \u001b[1;32mdef\u001b[0m \u001b[0mclose\u001b[0m\u001b[1;33m(\u001b[0m\u001b[0mself\u001b[0m\u001b[1;33m)\u001b[0m\u001b[1;33m:\u001b[0m\u001b[1;33m\u001b[0m\u001b[1;33m\u001b[0m\u001b[0m\n",
      "\u001b[1;32mc:\\users\\akinshipe\\appdata\\local\\programs\\python\\python38\\lib\\site-packages\\pandas\\io\\parsers\\readers.py\u001b[0m in \u001b[0;36m_make_engine\u001b[1;34m(self, engine)\u001b[0m\n\u001b[0;32m   1038\u001b[0m             )\n\u001b[0;32m   1039\u001b[0m         \u001b[1;31m# error: Too many arguments for \"ParserBase\"\u001b[0m\u001b[1;33m\u001b[0m\u001b[1;33m\u001b[0m\u001b[1;33m\u001b[0m\u001b[0m\n\u001b[1;32m-> 1040\u001b[1;33m         \u001b[1;32mreturn\u001b[0m \u001b[0mmapping\u001b[0m\u001b[1;33m[\u001b[0m\u001b[0mengine\u001b[0m\u001b[1;33m]\u001b[0m\u001b[1;33m(\u001b[0m\u001b[0mself\u001b[0m\u001b[1;33m.\u001b[0m\u001b[0mf\u001b[0m\u001b[1;33m,\u001b[0m \u001b[1;33m**\u001b[0m\u001b[0mself\u001b[0m\u001b[1;33m.\u001b[0m\u001b[0moptions\u001b[0m\u001b[1;33m)\u001b[0m  \u001b[1;31m# type: ignore[call-arg]\u001b[0m\u001b[1;33m\u001b[0m\u001b[1;33m\u001b[0m\u001b[0m\n\u001b[0m\u001b[0;32m   1041\u001b[0m \u001b[1;33m\u001b[0m\u001b[0m\n\u001b[0;32m   1042\u001b[0m     \u001b[1;32mdef\u001b[0m \u001b[0m_failover_to_python\u001b[0m\u001b[1;33m(\u001b[0m\u001b[0mself\u001b[0m\u001b[1;33m)\u001b[0m\u001b[1;33m:\u001b[0m\u001b[1;33m\u001b[0m\u001b[1;33m\u001b[0m\u001b[0m\n",
      "\u001b[1;32mc:\\users\\akinshipe\\appdata\\local\\programs\\python\\python38\\lib\\site-packages\\pandas\\io\\parsers\\c_parser_wrapper.py\u001b[0m in \u001b[0;36m__init__\u001b[1;34m(self, src, **kwds)\u001b[0m\n\u001b[0;32m     49\u001b[0m \u001b[1;33m\u001b[0m\u001b[0m\n\u001b[0;32m     50\u001b[0m         \u001b[1;31m# open handles\u001b[0m\u001b[1;33m\u001b[0m\u001b[1;33m\u001b[0m\u001b[1;33m\u001b[0m\u001b[0m\n\u001b[1;32m---> 51\u001b[1;33m         \u001b[0mself\u001b[0m\u001b[1;33m.\u001b[0m\u001b[0m_open_handles\u001b[0m\u001b[1;33m(\u001b[0m\u001b[0msrc\u001b[0m\u001b[1;33m,\u001b[0m \u001b[0mkwds\u001b[0m\u001b[1;33m)\u001b[0m\u001b[1;33m\u001b[0m\u001b[1;33m\u001b[0m\u001b[0m\n\u001b[0m\u001b[0;32m     52\u001b[0m         \u001b[1;32massert\u001b[0m \u001b[0mself\u001b[0m\u001b[1;33m.\u001b[0m\u001b[0mhandles\u001b[0m \u001b[1;32mis\u001b[0m \u001b[1;32mnot\u001b[0m \u001b[1;32mNone\u001b[0m\u001b[1;33m\u001b[0m\u001b[1;33m\u001b[0m\u001b[0m\n\u001b[0;32m     53\u001b[0m \u001b[1;33m\u001b[0m\u001b[0m\n",
      "\u001b[1;32mc:\\users\\akinshipe\\appdata\\local\\programs\\python\\python38\\lib\\site-packages\\pandas\\io\\parsers\\base_parser.py\u001b[0m in \u001b[0;36m_open_handles\u001b[1;34m(self, src, kwds)\u001b[0m\n\u001b[0;32m    220\u001b[0m         \u001b[0mLet\u001b[0m \u001b[0mthe\u001b[0m \u001b[0mreaders\u001b[0m \u001b[0mopen\u001b[0m \u001b[0mIOHandles\u001b[0m \u001b[0mafter\u001b[0m \u001b[0mthey\u001b[0m \u001b[0mare\u001b[0m \u001b[0mdone\u001b[0m \u001b[1;32mwith\u001b[0m \u001b[0mtheir\u001b[0m \u001b[0mpotential\u001b[0m \u001b[0mraises\u001b[0m\u001b[1;33m.\u001b[0m\u001b[1;33m\u001b[0m\u001b[1;33m\u001b[0m\u001b[0m\n\u001b[0;32m    221\u001b[0m         \"\"\"\n\u001b[1;32m--> 222\u001b[1;33m         self.handles = get_handle(\n\u001b[0m\u001b[0;32m    223\u001b[0m             \u001b[0msrc\u001b[0m\u001b[1;33m,\u001b[0m\u001b[1;33m\u001b[0m\u001b[1;33m\u001b[0m\u001b[0m\n\u001b[0;32m    224\u001b[0m             \u001b[1;34m\"r\"\u001b[0m\u001b[1;33m,\u001b[0m\u001b[1;33m\u001b[0m\u001b[1;33m\u001b[0m\u001b[0m\n",
      "\u001b[1;32mc:\\users\\akinshipe\\appdata\\local\\programs\\python\\python38\\lib\\site-packages\\pandas\\io\\common.py\u001b[0m in \u001b[0;36mget_handle\u001b[1;34m(path_or_buf, mode, encoding, compression, memory_map, is_text, errors, storage_options)\u001b[0m\n\u001b[0;32m    699\u001b[0m         \u001b[1;32mif\u001b[0m \u001b[0mioargs\u001b[0m\u001b[1;33m.\u001b[0m\u001b[0mencoding\u001b[0m \u001b[1;32mand\u001b[0m \u001b[1;34m\"b\"\u001b[0m \u001b[1;32mnot\u001b[0m \u001b[1;32min\u001b[0m \u001b[0mioargs\u001b[0m\u001b[1;33m.\u001b[0m\u001b[0mmode\u001b[0m\u001b[1;33m:\u001b[0m\u001b[1;33m\u001b[0m\u001b[1;33m\u001b[0m\u001b[0m\n\u001b[0;32m    700\u001b[0m             \u001b[1;31m# Encoding\u001b[0m\u001b[1;33m\u001b[0m\u001b[1;33m\u001b[0m\u001b[1;33m\u001b[0m\u001b[0m\n\u001b[1;32m--> 701\u001b[1;33m             handle = open(\n\u001b[0m\u001b[0;32m    702\u001b[0m                 \u001b[0mhandle\u001b[0m\u001b[1;33m,\u001b[0m\u001b[1;33m\u001b[0m\u001b[1;33m\u001b[0m\u001b[0m\n\u001b[0;32m    703\u001b[0m                 \u001b[0mioargs\u001b[0m\u001b[1;33m.\u001b[0m\u001b[0mmode\u001b[0m\u001b[1;33m,\u001b[0m\u001b[1;33m\u001b[0m\u001b[1;33m\u001b[0m\u001b[0m\n",
      "\u001b[1;31mFileNotFoundError\u001b[0m: [Errno 2] No such file or directory: 'control.csv'"
     ]
    }
   ],
   "source": [
    "control_dataframe = pd.read_csv('control.csv' ) \n",
    "control_dataframe['classify'].iloc[:1] = 1\n",
    "\n",
    "\n",
    "print(control_dataframe)\n",
    "control_dataframe.to_csv('control.csv', index=False)"
   ]
  },
  {
   "cell_type": "code",
   "execution_count": null,
   "id": "6ebe9400",
   "metadata": {},
   "outputs": [],
   "source": []
  }
 ],
 "metadata": {
  "kernelspec": {
   "display_name": "Python 3 (ipykernel)",
   "language": "python",
   "name": "python3"
  },
  "language_info": {
   "codemirror_mode": {
    "name": "ipython",
    "version": 3
   },
   "file_extension": ".py",
   "mimetype": "text/x-python",
   "name": "python",
   "nbconvert_exporter": "python",
   "pygments_lexer": "ipython3",
   "version": "3.8.7"
  }
 },
 "nbformat": 4,
 "nbformat_minor": 5
}
