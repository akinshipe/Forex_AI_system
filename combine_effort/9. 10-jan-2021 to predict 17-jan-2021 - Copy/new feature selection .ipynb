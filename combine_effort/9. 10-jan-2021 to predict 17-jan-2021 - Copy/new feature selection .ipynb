{
 "cells": [
  {
   "cell_type": "code",
   "execution_count": 1,
   "id": "e7b6a24f",
   "metadata": {},
   "outputs": [],
   "source": [
    "import pandas as pd\n",
    "from sklearn.model_selection import train_test_split\n",
    "from sklearn.linear_model import LinearRegression\n",
    "from sklearn.ensemble import RandomForestClassifier\n",
    "from sklearn.ensemble import RandomForestRegressor\n",
    "from sklearn.neighbors import KNeighborsClassifier\n",
    "from sklearn.neural_network import MLPClassifier\n",
    "#import matplotlib.pyplot as plt\n",
    "from sklearn import metrics\n",
    "import numpy as np"
   ]
  },
  {
   "cell_type": "code",
   "execution_count": 2,
   "id": "bb4baae2",
   "metadata": {},
   "outputs": [],
   "source": [
    "currency_pairs = ['USDCHF10080',\n",
    "                 'GBPUSD10080', 'EURUSD10080', 'USDJPY10080', 'USDCAD10080', 'AUDUSD10080', 'NZDUSD10080',\n",
    "                 'GBPCHF10080', 'EURCHF10080', 'CHFJPY10080', 'CADCHF10080', 'AUDCHF10080', 'NZDCHF10080', 'EURGBP10080',\n",
    "                 'GBPJPY10080', 'GBPCAD10080', 'GBPAUD10080', 'EURJPY10080', 'EURCAD10080', 'EURAUD10080', 'EURNZD10080',\n",
    "                'CADJPY10080', 'AUDJPY10080', 'NZDJPY10080', 'AUDCAD10080', 'NZDCAD10080', 'AUDNZD10080'\n",
    "                ]\n",
    "\n",
    "headers = ['date', 'ignore', 'open', 'high', 'low', 'close', 'volume'  ]\n",
    "\n",
    "\n",
    "# load the corelation data from CSV\n",
    "correlation_dataframe = pd.read_csv('files/auto-correlation2.csv'  ) \n",
    "\n",
    "# declair the variable that will hold all testable units, the week and the needed feature\n",
    "currency_pair_detail = []"
   ]
  },
  {
   "cell_type": "code",
   "execution_count": 3,
   "id": "5733bbb3",
   "metadata": {},
   "outputs": [
    {
     "name": "stdout",
     "output_type": "stream",
     "text": [
      "82\n"
     ]
    }
   ],
   "source": [
    "\n",
    "# loop through all currency pairs\n",
    "for a in currency_pairs:\n",
    "    \n",
    "    current_currency = a.replace('10080','')\n",
    "    \n",
    "    \n",
    "    weeks = [    {'week_name' : 10, 'correlation_cutoff' : 0.632},\n",
    "                 {'week_name' : 15, 'correlation_cutoff' : 0.514},\n",
    "                 {'week_name' : 20, 'correlation_cutoff' : 0.444},\n",
    "                 {'week_name' : 30, 'correlation_cutoff' : 0.361},\n",
    "                 {'week_name' : 50, 'correlation_cutoff' : 0.279},\n",
    "            ]\n",
    "    \n",
    "   \n",
    "    #loop throuh all available weeks\n",
    "    for b in weeks:\n",
    "        \n",
    "        needed_column_list = []\n",
    "        \n",
    "        #check if the current currency in the current week has any currency above the correlation score of the week\n",
    "        #this is to avoid running analysis for weeks with no correlation\n",
    "        if  correlation_dataframe[current_currency + '_' + str(b['week_name'])][0] > b['correlation_cutoff']:\n",
    "            \n",
    "            #loop though weeks to get all the currency pairs in the weeks lesser than current week according to my strategy\n",
    "            for c in weeks:\n",
    "\n",
    "                if c['week_name'] <= b['week_name']:\n",
    "\n",
    "                    #gets the needed two needed columns\n",
    "                    current_needed_columns = correlation_dataframe[[current_currency + '__' + str(c['week_name']), current_currency + '_' + str(c['week_name'])]] \n",
    "                    \n",
    "                    #get the rows that has corelation\n",
    "                    current_needed_columns = current_needed_columns.loc[ (current_needed_columns[current_currency + '_' + str(c['week_name'])] >= c['correlation_cutoff'])]\n",
    "                    \n",
    "                    #converts the currency pairs that passes to list\n",
    "                    current_needed_columns = current_needed_columns[current_currency + '__' + str(c['week_name'])].values.tolist()\n",
    "                    \n",
    "                    #loop through all the currency pairs that passes and append each currency pair to the list if it is not there already\n",
    "                    for d in current_needed_columns :\n",
    "                        if d not in needed_column_list:\n",
    "                            needed_column_list.append(d) \n",
    "\n",
    "\n",
    "        #creates a dictionary with the needed info for the currency and week\n",
    "        current_currency_detail = {'currency_name': current_currency, 'week': b['week_name'], 'needed_features':needed_column_list }\n",
    "        \n",
    "        #appends all non empty currency detail to the global list\n",
    "        if len(current_currency_detail['needed_features']) > 0:\n",
    "            currency_pair_detail.append(current_currency_detail)\n",
    "        \n",
    "       \n",
    "    \n",
    "        \n",
    "\n",
    "\n",
    "\n",
    "\n",
    "print(len(currency_pair_detail))\n"
   ]
  },
  {
   "cell_type": "code",
   "execution_count": 4,
   "id": "4dcf4282",
   "metadata": {},
   "outputs": [
    {
     "ename": "NameError",
     "evalue": "name 'clf' is not defined",
     "output_type": "error",
     "traceback": [
      "\u001b[1;31m---------------------------------------------------------------------------\u001b[0m",
      "\u001b[1;31mNameError\u001b[0m                                 Traceback (most recent call last)",
      "\u001b[1;32mC:\\Users\\AKINSH~1\\AppData\\Local\\Temp/ipykernel_20228/785966366.py\u001b[0m in \u001b[0;36m<module>\u001b[1;34m\u001b[0m\n\u001b[1;32m----> 1\u001b[1;33m feature_importance = pd.DataFrame(clf.feature_importances_,\n\u001b[0m\u001b[0;32m      2\u001b[0m                         \u001b[0mindex\u001b[0m \u001b[1;33m=\u001b[0m \u001b[0mX_train\u001b[0m\u001b[1;33m.\u001b[0m\u001b[0mcolumns\u001b[0m\u001b[1;33m,\u001b[0m\u001b[1;33m\u001b[0m\u001b[1;33m\u001b[0m\u001b[0m\n\u001b[0;32m      3\u001b[0m                         columns = ['importance']).sort_values('importance', ascending =False)\n\u001b[0;32m      4\u001b[0m \u001b[0mfeature_importance\u001b[0m\u001b[1;33m\u001b[0m\u001b[1;33m\u001b[0m\u001b[0m\n",
      "\u001b[1;31mNameError\u001b[0m: name 'clf' is not defined"
     ]
    }
   ],
   "source": [
    "feature_importance = pd.DataFrame(clf.feature_importances_,\n",
    "                        index = X_train.columns,\n",
    "                        columns = ['importance']).sort_values('importance', ascending =False)\n",
    "feature_importance"
   ]
  },
  {
   "cell_type": "code",
   "execution_count": null,
   "id": "4909201c",
   "metadata": {},
   "outputs": [],
   "source": []
  },
  {
   "cell_type": "code",
   "execution_count": null,
   "id": "b9f2428f",
   "metadata": {},
   "outputs": [],
   "source": []
  }
 ],
 "metadata": {
  "kernelspec": {
   "display_name": "Python 3 (ipykernel)",
   "language": "python",
   "name": "python3"
  },
  "language_info": {
   "codemirror_mode": {
    "name": "ipython",
    "version": 3
   },
   "file_extension": ".py",
   "mimetype": "text/x-python",
   "name": "python",
   "nbconvert_exporter": "python",
   "pygments_lexer": "ipython3",
   "version": "3.8.7"
  }
 },
 "nbformat": 4,
 "nbformat_minor": 5
}
