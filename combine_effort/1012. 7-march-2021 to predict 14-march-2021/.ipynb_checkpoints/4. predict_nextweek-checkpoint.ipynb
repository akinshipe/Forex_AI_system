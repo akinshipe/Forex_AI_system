{
 "cells": [
  {
   "cell_type": "code",
   "execution_count": 1,
   "id": "e7b6a24f",
   "metadata": {},
   "outputs": [],
   "source": [
    "import pandas as pd\n",
    "from sklearn.model_selection import train_test_split\n",
    "from sklearn.linear_model import LinearRegression\n",
    "from sklearn.ensemble import RandomForestClassifier\n",
    "from sklearn.ensemble import RandomForestRegressor\n",
    "from sklearn.neighbors import KNeighborsClassifier\n",
    "from sklearn.neural_network import MLPClassifier\n",
    "#import matplotlib.pyplot as plt\n",
    "from sklearn import metrics\n",
    "import numpy as np\n",
    "import ast\n",
    "import time\n",
    "from datetime import datetime"
   ]
  },
  {
   "cell_type": "code",
   "execution_count": 2,
   "id": "bb4baae2",
   "metadata": {},
   "outputs": [],
   "source": [
    "#currency_pairs = ['USDCHF10080',\n",
    "                 #'GBPUSD10080', 'EURUSD10080', 'USDJPY10080', 'USDCAD10080', 'AUDUSD10080', 'NZDUSD10080',\n",
    "                 #'GBPCHF10080', 'EURCHF10080', 'CHFJPY10080', 'CADCHF10080', 'AUDCHF10080', 'NZDCHF10080', 'EURGBP10080',\n",
    "                 #'GBPJPY10080', 'GBPCAD10080', 'GBPAUD10080', 'EURJPY10080', 'EURCAD10080', 'EURAUD10080', 'EURNZD10080',\n",
    "                #'CADJPY10080', 'AUDJPY10080', 'NZDJPY10080', 'AUDCAD10080', 'NZDCAD10080', 'AUDNZD10080'\n",
    "                #]\n",
    "\n",
    "headers = ['date', 'ignore', 'open', 'high', 'low', 'close', 'volume'  ]\n"
   ]
  },
  {
   "cell_type": "code",
   "execution_count": 3,
   "id": "5364c4b8",
   "metadata": {},
   "outputs": [
    {
     "name": "stdout",
     "output_type": "stream",
     "text": [
      "2021-12-09 09:54:38.760503\n"
     ]
    }
   ],
   "source": [
    "q = 0\n",
    "last_trial_time = datetime.now()\n",
    "while q < 1:\n",
    "    \n",
    "    print(last_trial_time)\n",
    "    control_dataframe = pd.read_csv('control.csv' ) \n",
    "    \n",
    "    if control_dataframe['feature'].iloc[:1].values == 1:     \n",
    "        \n",
    "        q = q+1\n",
    "        \n",
    "        \n",
    "        \n",
    "    else:  \n",
    "        last_trial_time = datetime.now()\n",
    "        time.sleep(60)\n",
    "        "
   ]
  },
  {
   "cell_type": "code",
   "execution_count": null,
   "id": "5733bbb3",
   "metadata": {},
   "outputs": [
    {
     "name": "stdout",
     "output_type": "stream",
     "text": [
      "---------------- Script Has Started Execution-----------------------\n",
      "USDCHF 10 [1.]\n",
      "EURUSD 10 [-0.99973571]\n",
      "USDJPY 10 [1.]\n"
     ]
    }
   ],
   "source": [
    "print('---------------- Script Has Started Execution-----------------------')\n",
    "\n",
    "next_week_prediction_score = []\n",
    "next_week_prediction =[]\n",
    "\n",
    "next_week_trades = pd.read_csv('files/next_week_trades.csv'  ) \n",
    "\n",
    "\n",
    "\n",
    "\n",
    "for index, row in next_week_trades.iterrows():\n",
    "    \n",
    "   \n",
    "    \n",
    "    current_currency = row.names\n",
    "    raw_data = pd.read_csv('files/' + current_currency + '.csv'  ) \n",
    "    weeks = row.week\n",
    "    wanted_features = ast.literal_eval(row.needed_features)\n",
    "    n_estimators = 20000\n",
    "    min_samples_leaf = 1\n",
    "    max_features = \"auto\"\n",
    "    max_samples = None\n",
    "\n",
    "\n",
    "\n",
    "\n",
    "    raw_data = raw_data[:weeks]\n",
    "\n",
    "    X_train = pd.DataFrame()\n",
    "\n",
    "    for q in wanted_features:\n",
    "\n",
    "        X_train[q] = raw_data[q]\n",
    "\n",
    "\n",
    "    #print(X_train)  \n",
    "\n",
    "    y_train = raw_data['nextweek_'+ current_currency]\n",
    "\n",
    "    #print(y_train)\n",
    "\n",
    "\n",
    "\n",
    "    prediction_model=RandomForestRegressor(\n",
    "                                                n_estimators=n_estimators,\n",
    "                                               n_jobs =-1,\n",
    "                                               min_samples_leaf=min_samples_leaf,\n",
    "                                                max_features=max_features,\n",
    "                                               max_samples = max_samples\n",
    "                                          )\n",
    "\n",
    "\n",
    "\n",
    "    prediction_model.fit(X_train,y_train)\n",
    "\n",
    "\n",
    "    current_week_values = pd.read_csv('current_week_values/current_week_values.csv'  ) \n",
    "\n",
    "    X_pred = pd.DataFrame()\n",
    "\n",
    "    for h in wanted_features:\n",
    "\n",
    "        X_pred[h] = current_week_values[h]\n",
    "\n",
    "    #print(X_pred)\n",
    "\n",
    "    y_pred = prediction_model.predict(X_pred)\n",
    "\n",
    "    \n",
    "    if y_pred[0] > 0:\n",
    "        \n",
    "        value = 'B'\n",
    "        \n",
    "    else:\n",
    "        value = 'S'\n",
    "        \n",
    "    next_week_prediction_score.append(y_pred[0])\n",
    "    next_week_prediction.append(value)\n",
    "    \n",
    "    print(row.names, row.week, y_pred)\n",
    "\n",
    "\n",
    "\n",
    "print(next_week_prediction)\n",
    "    "
   ]
  },
  {
   "cell_type": "code",
   "execution_count": null,
   "id": "4dcf4282",
   "metadata": {},
   "outputs": [],
   "source": [
    "next_week_trades['next_week_prediction_score'] = next_week_prediction_score\n",
    "next_week_trades['next_week_prediction'] = next_week_prediction\n",
    "\n",
    "next_week_trades.to_csv(\"files/next_week_trades.csv\")"
   ]
  },
  {
   "cell_type": "code",
   "execution_count": null,
   "id": "4909201c",
   "metadata": {},
   "outputs": [],
   "source": [
    "control_dataframe = pd.read_csv('control.csv' ) \n",
    "control_dataframe['predict'].iloc[:1] = 1\n",
    "\n",
    "\n",
    "print(control_dataframe)\n",
    "control_dataframe.to_csv('control.csv', index=False)\n"
   ]
  },
  {
   "cell_type": "code",
   "execution_count": null,
   "id": "b9f2428f",
   "metadata": {},
   "outputs": [],
   "source": []
  }
 ],
 "metadata": {
  "kernelspec": {
   "display_name": "Python 3 (ipykernel)",
   "language": "python",
   "name": "python3"
  },
  "language_info": {
   "codemirror_mode": {
    "name": "ipython",
    "version": 3
   },
   "file_extension": ".py",
   "mimetype": "text/x-python",
   "name": "python",
   "nbconvert_exporter": "python",
   "pygments_lexer": "ipython3",
   "version": "3.8.7"
  }
 },
 "nbformat": 4,
 "nbformat_minor": 5
}
