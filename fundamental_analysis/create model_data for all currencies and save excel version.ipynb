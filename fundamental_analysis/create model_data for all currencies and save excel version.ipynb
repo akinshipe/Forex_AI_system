{
 "cells": [
  {
   "cell_type": "code",
   "execution_count": 11,
   "id": "d935f4c6",
   "metadata": {},
   "outputs": [],
   "source": [
    "import pandas as pd\n",
    "from sklearn.model_selection import train_test_split\n",
    "from sklearn.linear_model import LinearRegression\n",
    "import matplotlib.pyplot as plt\n",
    "from sklearn import metrics\n",
    "import numpy as np\n",
    "\n",
    "\n",
    "currency_list = ['USDCHF10080',\n",
    "                 'GBPUSD10080', 'EURUSD10080', 'USDJPY10080', 'USDCAD10080', 'AUDUSD10080', 'NZDUSD10080',\n",
    "                 'GBPCHF10080', 'EURCHF10080', 'CHFJPY10080', 'CADCHF10080', 'AUDCHF10080', 'NZDCHF10080', 'EURGBP10080',\n",
    "                 'GBPJPY10080', 'GBPCAD10080', 'GBPAUD10080', 'EURJPY10080', 'EURCAD10080', 'EURAUD10080', 'EURNZD10080',\n",
    "                'CADJPY10080', 'AUDJPY10080', 'NZDJPY10080', 'AUDCAD10080', 'NZDCAD10080', 'AUDNZD10080'\n",
    "                ]\n",
    "\n"
   ]
  },
  {
   "cell_type": "code",
   "execution_count": 12,
   "id": "76a56675",
   "metadata": {},
   "outputs": [
    {
     "name": "stdout",
     "output_type": "stream",
     "text": [
      "USDCHF10080\n",
      "GBPUSD10080\n",
      "EURUSD10080\n",
      "USDJPY10080\n",
      "USDCAD10080\n",
      "AUDUSD10080\n",
      "NZDUSD10080\n",
      "GBPCHF10080\n",
      "EURCHF10080\n",
      "CHFJPY10080\n",
      "CADCHF10080\n",
      "AUDCHF10080\n",
      "NZDCHF10080\n",
      "EURGBP10080\n",
      "GBPJPY10080\n",
      "GBPCAD10080\n",
      "GBPAUD10080\n",
      "EURJPY10080\n",
      "EURCAD10080\n",
      "EURAUD10080\n",
      "EURNZD10080\n",
      "CADJPY10080\n",
      "AUDJPY10080\n",
      "NZDJPY10080\n",
      "AUDCAD10080\n",
      "NZDCAD10080\n",
      "AUDNZD10080\n"
     ]
    }
   ],
   "source": [
    "\n",
    "# read data frame from excel\n",
    "original_data = pd.read_excel('files/combine_data_dataframe.xlsx', sheet_name=0)\n",
    "\n",
    "#loop through all currenct so as to populate model training data for each currenct and save as excel file\n",
    "for x in currency_list:\n",
    "    \n",
    "    #copies original data so as not to mutate it\n",
    "    data = original_data.copy( deep = True)\n",
    "    \n",
    "    next_week_data = [[], [], [], []]\n",
    "    \n",
    "    #picks the data for that currency and populate nextweek columns with it\n",
    "    next_week_data[0] = data[x +'_open'].to_list()\n",
    "    next_week_data[1] = data[x +'_high'].to_list()\n",
    "    next_week_data[2] = data[x +'_low'].to_list()\n",
    "    next_week_data[3] = data[x +'_close'].to_list()\n",
    "    \n",
    "    # this for loop shifts the row down by 1 step so as to have nextweek data on the same row ith this week data\n",
    "    for y in next_week_data:\n",
    "        y.insert(0,0)\n",
    "        y.pop()\n",
    "    \n",
    "    # creates a data frame of the nextweek data and populate it \n",
    "    next_week_data_frame = pd.DataFrame( columns = ['nextweek_open', 'nextweek_high', 'nextweek_low', 'nextweek_close'])\n",
    "    \n",
    "    next_week_data_frame['nextweek_open'] = next_week_data[0]\n",
    "    next_week_data_frame['nextweek_high'] = next_week_data[1]\n",
    "    next_week_data_frame['nextweek_low'] = next_week_data[2]\n",
    "    next_week_data_frame['nextweek_close'] = next_week_data[3]\n",
    "    \n",
    "    #join the two dataframe togeter\n",
    "    data = pd.concat([ next_week_data_frame  , data], axis=1, )\n",
    "    \n",
    "     #deletes the column 4 the column 4 is a duplicate of the index when two dataframes where concated together   \n",
    "    data.drop(data.columns[4], axis=1, inplace=True)\n",
    "    \n",
    "    \n",
    "    #deletes the first row of the column as it has invalid data for nextweek forecast\n",
    "    data = data.iloc[1: , :]\n",
    "    \n",
    "    #data for each currency is exported to different excel files\n",
    "    \n",
    "    data.to_excel(\"files/currency_training_data/\" + x.replace('10080','') + \"_combine_data_dataframe.xlsx\") \n",
    "    \n",
    "    print(x) \n",
    " "
   ]
  },
  {
   "cell_type": "code",
   "execution_count": null,
   "id": "51bfe6bf",
   "metadata": {},
   "outputs": [],
   "source": []
  }
 ],
 "metadata": {
  "kernelspec": {
   "display_name": "Python 3 (ipykernel)",
   "language": "python",
   "name": "python3"
  },
  "language_info": {
   "codemirror_mode": {
    "name": "ipython",
    "version": 3
   },
   "file_extension": ".py",
   "mimetype": "text/x-python",
   "name": "python",
   "nbconvert_exporter": "python",
   "pygments_lexer": "ipython3",
   "version": "3.8.7"
  }
 },
 "nbformat": 4,
 "nbformat_minor": 5
}
