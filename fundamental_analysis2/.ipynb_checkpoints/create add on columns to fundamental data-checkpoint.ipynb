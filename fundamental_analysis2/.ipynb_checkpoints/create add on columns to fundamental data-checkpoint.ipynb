{
 "cells": [
  {
   "cell_type": "code",
   "execution_count": 16,
   "id": "a39f2056",
   "metadata": {},
   "outputs": [],
   "source": [
    "import pandas as pd\n",
    "from sklearn.model_selection import train_test_split\n",
    "from sklearn.linear_model import LinearRegression\n",
    "import matplotlib.pyplot as plt\n",
    "from sklearn import metrics\n",
    "import numpy as np\n",
    "\n",
    "\n",
    "currency_list = ['usd',\n",
    "                 'gbp', 'jpy', 'aud', 'chf', 'eur', 'cad', 'nzd' \n",
    "                ]\n",
    "\n",
    "characteristics = ['_black',\n",
    "                  '_green', '_red', '_no_actual'\n",
    "                  ]"
   ]
  },
  {
   "cell_type": "code",
   "execution_count": 17,
   "id": "30ee07ff",
   "metadata": {},
   "outputs": [
    {
     "name": "stderr",
     "output_type": "stream",
     "text": [
      "C:\\Users\\AKINSH~1\\AppData\\Local\\Temp/ipykernel_13904/768591615.py:36: PerformanceWarning: DataFrame is highly fragmented.  This is usually the result of calling `frame.insert` many times, which has poor performance.  Consider using pd.concat instead.  To get a de-fragmented frame, use `newframe = frame.copy()`\n",
      "  combine_data_dataframe[x + y] = current_column\n"
     ]
    }
   ],
   "source": [
    "# read data from compiled fundamental data\n",
    "fundamental_data = pd.read_excel('investings_weekly_fundamental_data.xlsx'  ) \n",
    "\n",
    "\n",
    "# create an empty dataframe that will take the combined data\n",
    "combine_data_dataframe = pd.DataFrame(data={}, index = pd.Series(range(0,len(fundamental_data))), )\n",
    "\n",
    "combine_data_dataframe['date_start'] = fundamental_data['original date frame']\n",
    "\n",
    "for x in currency_list:\n",
    "    \n",
    "    for y in characteristics:\n",
    "        \n",
    "        current_column = fundamental_data[x + y].values.tolist()\n",
    "        \n",
    "         # this function takes a list and returns with a list of x number of list that is the data for the previous row\n",
    "    \n",
    "        def add_5_columns(real_column) :\n",
    "\n",
    "            add_on_columns = [real_column, [], [], [], [], [], [], [], [], [],]\n",
    "                            \n",
    "\n",
    "            g = 1 \n",
    "\n",
    "            while g < 10:\n",
    "\n",
    "                add_on_columns[g] = add_on_columns[g-1].copy()\n",
    "                add_on_columns[g].pop(0)\n",
    "                add_on_columns[g].append(0)    \n",
    "                g = g+1\n",
    "\n",
    "            add_on_columns.pop(0)   \n",
    "            return add_on_columns\n",
    "        \n",
    "        \n",
    "        combine_data_dataframe[x + y] = current_column\n",
    "        add_on_columns = add_5_columns(current_column)\n",
    "        \n",
    "        #loop through the returned list and add it to the combined dataframe\n",
    "        for h in add_on_columns:\n",
    "            mini_df = pd.DataFrame(data={}, index = pd.Series(range(0,len(current_column))), )\n",
    "            mini_df[''] = h   \n",
    "            combine_data_dataframe = pd.concat([ combine_data_dataframe, mini_df], axis=1)\n",
    "\n",
    "\n",
    "      "
   ]
  },
  {
   "cell_type": "code",
   "execution_count": 18,
   "id": "be28fee7",
   "metadata": {},
   "outputs": [],
   "source": [
    "# save combined_data to excel\n",
    "combine_data_dataframe = combine_data_dataframe.head(len(combine_data_dataframe) -10 )\n",
    "combine_data_dataframe.to_excel(\"files/combine_data_dataframe_with_addon_columns.xlsx\") \n",
    "\n",
    "#save x numbers of row to exell for testing\n",
    "combine_data_dataframe = combine_data_dataframe.head(20)\n",
    "combine_data_dataframe.to_excel('files/combine_top_10_rows_dataframe.xlsx')\n",
    "\n"
   ]
  },
  {
   "cell_type": "code",
   "execution_count": null,
   "id": "b073d1b3",
   "metadata": {},
   "outputs": [],
   "source": []
  }
 ],
 "metadata": {
  "kernelspec": {
   "display_name": "Python 3 (ipykernel)",
   "language": "python",
   "name": "python3"
  },
  "language_info": {
   "codemirror_mode": {
    "name": "ipython",
    "version": 3
   },
   "file_extension": ".py",
   "mimetype": "text/x-python",
   "name": "python",
   "nbconvert_exporter": "python",
   "pygments_lexer": "ipython3",
   "version": "3.8.7"
  }
 },
 "nbformat": 4,
 "nbformat_minor": 5
}
